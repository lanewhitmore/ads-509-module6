{
 "cells": [
  {
   "cell_type": "markdown",
   "id": "708ebc60",
   "metadata": {},
   "source": [
    "# ADS 509 Sentiment Assignment\n",
    "\n",
    "This notebook holds the Sentiment Assignment for Module 6 in ADS 509, Applied Text Mining. Work through this notebook, writing code and answering questions where required. \n",
    "\n",
    "In a previous assignment you put together Twitter data and lyrics data on two artists. In this assignment we apply sentiment analysis to those data sets. If, for some reason, you did not complete that previous assignment, data to use for this assignment can be found in the assignment materials section of Blackboard. "
   ]
  },
  {
   "cell_type": "markdown",
   "id": "bdd0df98",
   "metadata": {},
   "source": [
    "## General Assignment Instructions\n",
    "\n",
    "These instructions are included in every assignment, to remind you of the coding standards for the class. Feel free to delete this cell after reading it. \n",
    "\n",
    "One sign of mature code is conforming to a style guide. We recommend the [Google Python Style Guide](https://google.github.io/styleguide/pyguide.html). If you use a different style guide, please include a cell with a link. \n",
    "\n",
    "Your code should be relatively easy-to-read, sensibly commented, and clean. Writing code is a messy process, so please be sure to edit your final submission. Remove any cells that are not needed or parts of cells that contain unnecessary code. Remove inessential `import` statements and make sure that all such statements are moved into the designated cell. \n",
    "\n",
    "Make use of non-code cells for written commentary. These cells should be grammatical and clearly written. In some of these cells you will have questions to answer. The questions will be marked by a \"Q:\" and will have a corresponding \"A:\" spot for you. *Make sure to answer every question marked with a `Q:` for full credit.* "
   ]
  },
  {
   "cell_type": "code",
   "execution_count": 1,
   "id": "5d1d9979",
   "metadata": {},
   "outputs": [],
   "source": [
    "import os\n",
    "import re\n",
    "import emoji\n",
    "import pandas as pd\n",
    "import numpy as np\n",
    "\n",
    "from collections import Counter, defaultdict\n",
    "from string import punctuation\n",
    "\n",
    "from nltk.corpus import stopwords\n",
    "\n",
    "sw = stopwords.words(\"english\")"
   ]
  },
  {
   "cell_type": "code",
   "execution_count": 2,
   "id": "5ddd261c",
   "metadata": {},
   "outputs": [],
   "source": [
    "# Add any additional import statements you need here\n",
    "import seaborn as sns\n",
    "import matplotlib.pyplot as plt"
   ]
  },
  {
   "cell_type": "code",
   "execution_count": 3,
   "id": "499c7c65",
   "metadata": {},
   "outputs": [],
   "source": [
    "# change `data_location` to the location of the folder on your machine.\n",
    "data_location = \"/users/whitm/OneDrive/Desktop/ADS509/M1_Assignment_Data/M1_Results/\"\n",
    "\n",
    "# These subfolders should still work if you correctly stored the \n",
    "# data from the Module 1 assignment\n",
    "twitter_folder = \"twitter/\"\n",
    "lyrics_folder = \"lyrics/\"\n",
    "\n",
    "positive_words_file = \"positive-words.txt\"\n",
    "negative_words_file = \"negative-words.txt\"\n",
    "tidy_text_file = \"tidytext_sentiments.txt\""
   ]
  },
  {
   "cell_type": "markdown",
   "id": "0fe6e388",
   "metadata": {},
   "source": [
    "## Data Input\n",
    "\n",
    "Now read in each of the corpora. For the lyrics data, it may be convenient to store the entire contents of the file to make it easier to inspect the titles individually, as you'll do in the last part of the assignment. In the solution, I stored the lyrics data in a dictionary with two dimensions of keys: artist and song. The value was the file contents. A Pandas data frame would work equally well. \n",
    "\n",
    "For the Twitter data, we only need the description field for this assignment. Feel free all the descriptions read it into a data structure. In the solution, I stored the descriptions as a dictionary of lists, with the key being the artist. "
   ]
  },
  {
   "cell_type": "code",
   "execution_count": 4,
   "id": "23ef4772",
   "metadata": {},
   "outputs": [
    {
     "data": {
      "text/html": [
       "<div>\n",
       "<style scoped>\n",
       "    .dataframe tbody tr th:only-of-type {\n",
       "        vertical-align: middle;\n",
       "    }\n",
       "\n",
       "    .dataframe tbody tr th {\n",
       "        vertical-align: top;\n",
       "    }\n",
       "\n",
       "    .dataframe thead th {\n",
       "        text-align: right;\n",
       "    }\n",
       "</style>\n",
       "<table border=\"1\" class=\"dataframe\">\n",
       "  <thead>\n",
       "    <tr style=\"text-align: right;\">\n",
       "      <th></th>\n",
       "      <th>artist</th>\n",
       "      <th>lyrics</th>\n",
       "    </tr>\n",
       "  </thead>\n",
       "  <tbody>\n",
       "    <tr>\n",
       "      <th>0</th>\n",
       "      <td>Robyn</td>\n",
       "      <td>\"88 Days\"\\n\\n\\n\\nI light a candle in the morni...</td>\n",
       "    </tr>\n",
       "    <tr>\n",
       "      <th>1</th>\n",
       "      <td>Robyn</td>\n",
       "      <td>\"Ain't No Thing\"\\n\\n\\n\\n[Verse 1:]\\nBoy you go...</td>\n",
       "    </tr>\n",
       "    <tr>\n",
       "      <th>2</th>\n",
       "      <td>Robyn</td>\n",
       "      <td>\"Anytime You Like\"\\n\\n\\n\\nIt's like you're wai...</td>\n",
       "    </tr>\n",
       "    <tr>\n",
       "      <th>3</th>\n",
       "      <td>Robyn</td>\n",
       "      <td>\"Baby Forgive Me\"\\n\\n\\n\\nHere come the night\\n...</td>\n",
       "    </tr>\n",
       "    <tr>\n",
       "      <th>4</th>\n",
       "      <td>Robyn</td>\n",
       "      <td>\"Beach 2K20\"\\n\\n\\n\\n(So you wanna go out?\\nHow...</td>\n",
       "    </tr>\n",
       "    <tr>\n",
       "      <th>...</th>\n",
       "      <td>...</td>\n",
       "      <td>...</td>\n",
       "    </tr>\n",
       "    <tr>\n",
       "      <th>410</th>\n",
       "      <td>Cher</td>\n",
       "      <td>\"You Better Sit Down Kids\"\\n\\n\\n\\nBetter sit d...</td>\n",
       "    </tr>\n",
       "    <tr>\n",
       "      <th>411</th>\n",
       "      <td>Cher</td>\n",
       "      <td>\"You Don't Have To Say You Love Me\"\\n\\n\\n\\nWhe...</td>\n",
       "    </tr>\n",
       "    <tr>\n",
       "      <th>412</th>\n",
       "      <td>Cher</td>\n",
       "      <td>\"You Haven't Seen The Last Of Me\"\\n\\n\\n\\nFeeli...</td>\n",
       "    </tr>\n",
       "    <tr>\n",
       "      <th>413</th>\n",
       "      <td>Cher</td>\n",
       "      <td>\"You Know It\"\\n\\n\\n\\nYou're the kinda of girl\\...</td>\n",
       "    </tr>\n",
       "    <tr>\n",
       "      <th>414</th>\n",
       "      <td>Cher</td>\n",
       "      <td>\"Young And Pretty\"\\n\\n\\n\\nCome from the suburb...</td>\n",
       "    </tr>\n",
       "  </tbody>\n",
       "</table>\n",
       "<p>415 rows × 2 columns</p>\n",
       "</div>"
      ],
      "text/plain": [
       "    artist                                             lyrics\n",
       "0    Robyn  \"88 Days\"\\n\\n\\n\\nI light a candle in the morni...\n",
       "1    Robyn  \"Ain't No Thing\"\\n\\n\\n\\n[Verse 1:]\\nBoy you go...\n",
       "2    Robyn  \"Anytime You Like\"\\n\\n\\n\\nIt's like you're wai...\n",
       "3    Robyn  \"Baby Forgive Me\"\\n\\n\\n\\nHere come the night\\n...\n",
       "4    Robyn  \"Beach 2K20\"\\n\\n\\n\\n(So you wanna go out?\\nHow...\n",
       "..     ...                                                ...\n",
       "410   Cher  \"You Better Sit Down Kids\"\\n\\n\\n\\nBetter sit d...\n",
       "411   Cher  \"You Don't Have To Say You Love Me\"\\n\\n\\n\\nWhe...\n",
       "412   Cher  \"You Haven't Seen The Last Of Me\"\\n\\n\\n\\nFeeli...\n",
       "413   Cher  \"You Know It\"\\n\\n\\n\\nYou're the kinda of girl\\...\n",
       "414   Cher  \"Young And Pretty\"\\n\\n\\n\\nCome from the suburb...\n",
       "\n",
       "[415 rows x 2 columns]"
      ]
     },
     "execution_count": 4,
     "metadata": {},
     "output_type": "execute_result"
    }
   ],
   "source": [
    "# Read in the lyrics data\n",
    "artists = ['robyn','cher']\n",
    "\n",
    "# List for lyrics and titles\n",
    "r_lyrics = []\n",
    "c_lyrics = []\n",
    "\n",
    "# lists for artists names\n",
    "r = []\n",
    "c = []\n",
    "for a in artists:\n",
    "    for file in os.listdir(f'{data_location}{lyrics_folder}'+a+'/'):\n",
    "        if file.endswith('.txt'):\n",
    "            with open(f'{data_location}{lyrics_folder}'+a+'/'+file,'r') as data:\n",
    "                if a == 'robyn':\n",
    "                    r_lyrics.append(data.read())\n",
    "                    r.append('Robyn')\n",
    "                else:\n",
    "                    c_lyrics.append(data.read())\n",
    "                    c.append('Cher')\n",
    "        else:\n",
    "            print(\"Error File Not Text\")\n",
    "\n",
    "lyrics = pd.DataFrame({\"artist\": r+c, \"lyrics\": r_lyrics+c_lyrics})\n",
    "lyrics.head(-5)"
   ]
  },
  {
   "cell_type": "code",
   "execution_count": 5,
   "id": "fc2a44a0",
   "metadata": {},
   "outputs": [],
   "source": [
    "# Doing a little prep work to make the normalization/transformation a little easier\n",
    "titles = []\n",
    "li_lyrics = []\n",
    "for i in lyrics['lyrics']:\n",
    "    # splitting lyrics from titles\n",
    "    x, y = i.split('\\n\\n\\n\\n')\n",
    "    # appending titles and lyrics for placement in a dataframe\n",
    "    titles.append(x.replace('\"', ''))\n",
    "    li_lyrics.append(y.replace('\\n',' '))\n",
    "\n",
    "# putting new lyrics and titles columns into dataframe\n",
    "lyrics['lyrics'] = li_lyrics\n",
    "lyrics['titles'] = titles"
   ]
  },
  {
   "cell_type": "code",
   "execution_count": 6,
   "id": "be18b65c",
   "metadata": {},
   "outputs": [
    {
     "name": "stderr",
     "output_type": "stream",
     "text": [
      "C:\\Users\\whitm\\AppData\\Local\\Temp\\ipykernel_13164\\4037894488.py:13: FutureWarning: The error_bad_lines argument has been deprecated and will be removed in a future version. Use on_bad_lines in the future.\n",
      "\n",
      "\n",
      "  df = pd.read_csv(f\"{data_location}{twitter_folder}\"+a+\"_followers_data.txt\", sep=\"\\t\", error_bad_lines=False, warn_bad_lines=False)['description'].dropna()\n",
      "C:\\Users\\whitm\\AppData\\Local\\Temp\\ipykernel_13164\\4037894488.py:13: FutureWarning: The warn_bad_lines argument has been deprecated and will be removed in a future version. Use on_bad_lines in the future.\n",
      "\n",
      "\n",
      "  df = pd.read_csv(f\"{data_location}{twitter_folder}\"+a+\"_followers_data.txt\", sep=\"\\t\", error_bad_lines=False, warn_bad_lines=False)['description'].dropna()\n",
      "C:\\Users\\whitm\\AppData\\Local\\Temp\\ipykernel_13164\\4037894488.py:13: FutureWarning: The error_bad_lines argument has been deprecated and will be removed in a future version. Use on_bad_lines in the future.\n",
      "\n",
      "\n",
      "  df = pd.read_csv(f\"{data_location}{twitter_folder}\"+a+\"_followers_data.txt\", sep=\"\\t\", error_bad_lines=False, warn_bad_lines=False)['description'].dropna()\n",
      "C:\\Users\\whitm\\AppData\\Local\\Temp\\ipykernel_13164\\4037894488.py:13: FutureWarning: The warn_bad_lines argument has been deprecated and will be removed in a future version. Use on_bad_lines in the future.\n",
      "\n",
      "\n",
      "  df = pd.read_csv(f\"{data_location}{twitter_folder}\"+a+\"_followers_data.txt\", sep=\"\\t\", error_bad_lines=False, warn_bad_lines=False)['description'].dropna()\n"
     ]
    }
   ],
   "source": [
    "# Read in the twitter data\n",
    "# dictionary for twitter descriptions\n",
    "twitter_desc = defaultdict(list)\n",
    "\n",
    "# list\n",
    "r_desc = []\n",
    "c_desc = []\n",
    "\n",
    "# loop through the artist list robyn, cher\n",
    "for a in artists:\n",
    "\n",
    "    # reading the files as a csv skipping the bad lines in the cher file and dropping the null values\n",
    "    df = pd.read_csv(f\"{data_location}{twitter_folder}\"+a+\"_followers_data.txt\", sep=\"\\t\", error_bad_lines=False, warn_bad_lines=False)['description'].dropna()\n",
    "    for i in list(df):\n",
    "        # looping through the dataframe to save as a list for the dictionary\n",
    "        if a == 'robyn':\n",
    "            r_desc.append(i)\n",
    "        else:\n",
    "            c_desc.append(i)\n",
    "        \n",
    "twitter_desc['robyn'] = r_desc\n",
    "twitter_desc['cher'] = c_desc"
   ]
  },
  {
   "cell_type": "code",
   "execution_count": 7,
   "id": "1f956907",
   "metadata": {},
   "outputs": [
    {
     "name": "stdout",
     "output_type": "stream",
     "text": [
      "['I love chill •Facebook / Instagram / SoundCloud: AngelxoArts• https://t.co/447okKLKzA…', \"books, movies, music, nature & TV shows. OG Sweetee since '12 thanks to YouTube recommending 'This Feeling' on my homepage ♥️\"]\n",
      "['𝙿𝚛𝚘𝚞𝚍 𝚜𝚞𝚙𝚙𝚘𝚛𝚝𝚎𝚛 𝚘𝚏 𝚖𝚎𝚜𝚜𝚢 𝚋𝚞𝚗𝚜 & 𝚕𝚎𝚐𝚐𝚒𝚗𝚐𝚜', '163㎝／愛かっぷ💜26歳🍒 工〇好きな女の子💓 フォローしてくれたらDMします🧡']\n"
     ]
    }
   ],
   "source": [
    "# Example of dictionary\n",
    "print(twitter_desc['robyn'][0:2])\n",
    "print(twitter_desc['cher'][0:2])"
   ]
  },
  {
   "cell_type": "markdown",
   "id": "6f1fd066",
   "metadata": {},
   "source": [
    "### Importing Text Data"
   ]
  },
  {
   "cell_type": "code",
   "execution_count": 8,
   "id": "4ce03fb5",
   "metadata": {},
   "outputs": [],
   "source": [
    "# Read in the positive and negative words and the\n",
    "# tidytext sentiment. Store these so that the positive\n",
    "# words are associated with a score of +1 and negative words\n",
    "# are associated with a score of -1. You can use a dataframe or a \n",
    "# dictionary for this.\n",
    "def read_texts(path):\n",
    "    negative = pd.read_csv(f\"{path}negative-words.txt\", header=None)\n",
    "    negative.columns = ['word']\n",
    "    positive = pd.read_csv(f\"{path}positive-words.txt\", header=None)\n",
    "    positive.columns = ['word']\n",
    "    negative['sentiment'] = [-1] * len(negative)\n",
    "    positive['sentiment'] = [1] * len(positive)\n",
    "    sentiment_df = pd.concat([negative, positive], axis = 0)\n",
    "    sentiment_df.rename(columns = {'0': 'words'}, inplace = True)\n",
    "\n",
    "    tidy_df = pd.read_csv(f\"{path}tidytext_sentiments.txt\", sep = \"\\t\")\n",
    "\n",
    "    sent = []\n",
    "    for i in tidy_df['sentiment']:\n",
    "        if i == 'negative':\n",
    "            sent.append(-1)\n",
    "        else:\n",
    "            sent.append(+1)\n",
    "    senn = pd.DataFrame({\"word\": list(tidy_df['word']), \"sentiment\": sent})\n",
    "\n",
    "    data = pd.concat([senn, sentiment_df], axis = 0)\n",
    "\n",
    "    return data"
   ]
  },
  {
   "cell_type": "code",
   "execution_count": 9,
   "id": "8c80c20a",
   "metadata": {},
   "outputs": [],
   "source": [
    "sentiment_df = read_texts(\"C:/users/whitm/OneDrive/Desktop/ADS509/M1_Assignment_Data/M1_Results/\")"
   ]
  },
  {
   "cell_type": "code",
   "execution_count": 10,
   "id": "6dd7f793",
   "metadata": {},
   "outputs": [
    {
     "data": {
      "text/html": [
       "<div>\n",
       "<style scoped>\n",
       "    .dataframe tbody tr th:only-of-type {\n",
       "        vertical-align: middle;\n",
       "    }\n",
       "\n",
       "    .dataframe tbody tr th {\n",
       "        vertical-align: top;\n",
       "    }\n",
       "\n",
       "    .dataframe thead th {\n",
       "        text-align: right;\n",
       "    }\n",
       "</style>\n",
       "<table border=\"1\" class=\"dataframe\">\n",
       "  <thead>\n",
       "    <tr style=\"text-align: right;\">\n",
       "      <th></th>\n",
       "      <th>word</th>\n",
       "      <th>sentiment</th>\n",
       "    </tr>\n",
       "  </thead>\n",
       "  <tbody>\n",
       "    <tr>\n",
       "      <th>0</th>\n",
       "      <td>abandon</td>\n",
       "      <td>-1</td>\n",
       "    </tr>\n",
       "    <tr>\n",
       "      <th>1</th>\n",
       "      <td>abandoned</td>\n",
       "      <td>-1</td>\n",
       "    </tr>\n",
       "    <tr>\n",
       "      <th>2</th>\n",
       "      <td>abandonment</td>\n",
       "      <td>-1</td>\n",
       "    </tr>\n",
       "    <tr>\n",
       "      <th>3</th>\n",
       "      <td>abba</td>\n",
       "      <td>1</td>\n",
       "    </tr>\n",
       "    <tr>\n",
       "      <th>4</th>\n",
       "      <td>abduction</td>\n",
       "      <td>-1</td>\n",
       "    </tr>\n",
       "  </tbody>\n",
       "</table>\n",
       "</div>"
      ],
      "text/plain": [
       "          word  sentiment\n",
       "0      abandon         -1\n",
       "1    abandoned         -1\n",
       "2  abandonment         -1\n",
       "3         abba          1\n",
       "4    abduction         -1"
      ]
     },
     "execution_count": 10,
     "metadata": {},
     "output_type": "execute_result"
    }
   ],
   "source": [
    "sentiment_df.head()"
   ]
  },
  {
   "cell_type": "markdown",
   "id": "33aff12a",
   "metadata": {},
   "source": [
    "### Clean the text"
   ]
  },
  {
   "cell_type": "code",
   "execution_count": 11,
   "id": "26cc74e2",
   "metadata": {},
   "outputs": [],
   "source": [
    "\n",
    "# clean list to add to pd.DataFrame\n",
    "cleaned_lyrics = []\n",
    "df_count = 0\n",
    "cher_lyrics = []\n",
    "robyn_lyrics = []\n",
    "\n",
    "# list to store splits before searching stopwordss\n",
    "splitt = []\n",
    "\n",
    "# loop through lyric values\n",
    "for i in lyrics['lyrics']:\n",
    "    # removing verse counts \n",
    "    i = i.replace('[Verse 1:]', '').replace('[Verse 2:]', '').replace('[Verse 3:]', '').replace('[Verse 4:]', '').replace('[Verse 5:]', '')\n",
    "\n",
    "    # append lyrics without punctuation or capitalization that have also been split\n",
    "    splitt.append(i.casefold().split())\n",
    "\n",
    "# loop through the split lists\n",
    "for i in splitt:\n",
    "    df_count += 1\n",
    "    tmp = []\n",
    "\n",
    "    # loop through the splits lists words\n",
    "    for w in i:\n",
    "        \n",
    "        # keep if not in stopwords set\n",
    "        if w not in sw:\n",
    "                    \n",
    "                    # append to temp storage\n",
    "                    tmp.append(w.translate(str.maketrans('', '', punctuation)))\n",
    "                    \n",
    "                    if lyrics['artist'].loc[df_count-1] == 'Robyn':\n",
    "                        robyn_lyrics.append(w.translate(str.maketrans('', '', punctuation)))\n",
    "                    else:\n",
    "                        cher_lyrics.append(w.translate(str.maketrans('', '', punctuation)))\n",
    "\n",
    "    # append to clean lyrics lists\n",
    "    cleaned_lyrics.append(tmp)\n",
    "\n",
    "lyrics['cleaned_lyrics'] = cleaned_lyrics"
   ]
  },
  {
   "cell_type": "code",
   "execution_count": 12,
   "id": "b0039554",
   "metadata": {},
   "outputs": [
    {
     "name": "stdout",
     "output_type": "stream",
     "text": [
      "Length of 88 Days by Robyn before cleaning:  1624\n",
      " \n",
      "Length of 88 Days by Robyn after cleaning:  206\n"
     ]
    },
    {
     "data": {
      "text/html": [
       "<div>\n",
       "<style scoped>\n",
       "    .dataframe tbody tr th:only-of-type {\n",
       "        vertical-align: middle;\n",
       "    }\n",
       "\n",
       "    .dataframe tbody tr th {\n",
       "        vertical-align: top;\n",
       "    }\n",
       "\n",
       "    .dataframe thead th {\n",
       "        text-align: right;\n",
       "    }\n",
       "</style>\n",
       "<table border=\"1\" class=\"dataframe\">\n",
       "  <thead>\n",
       "    <tr style=\"text-align: right;\">\n",
       "      <th></th>\n",
       "      <th>artist</th>\n",
       "      <th>lyrics</th>\n",
       "      <th>titles</th>\n",
       "      <th>cleaned_lyrics</th>\n",
       "    </tr>\n",
       "  </thead>\n",
       "  <tbody>\n",
       "    <tr>\n",
       "      <th>0</th>\n",
       "      <td>Robyn</td>\n",
       "      <td>I light a candle in the morning  To signify th...</td>\n",
       "      <td>88 Days</td>\n",
       "      <td>[light, candle, morning, signify, still, mind,...</td>\n",
       "    </tr>\n",
       "    <tr>\n",
       "      <th>1</th>\n",
       "      <td>Robyn</td>\n",
       "      <td>[Verse 1:] Boy you gotta want me, really reall...</td>\n",
       "      <td>Ain't No Thing</td>\n",
       "      <td>[boy, gotta, want, me, really, really, want, b...</td>\n",
       "    </tr>\n",
       "    <tr>\n",
       "      <th>2</th>\n",
       "      <td>Robyn</td>\n",
       "      <td>It's like you're waiting for me to start There...</td>\n",
       "      <td>Anytime You Like</td>\n",
       "      <td>[like, waiting, start, theres, right, moment, ...</td>\n",
       "    </tr>\n",
       "    <tr>\n",
       "      <th>3</th>\n",
       "      <td>Robyn</td>\n",
       "      <td>Here come the night In your eyes Baby, be brav...</td>\n",
       "      <td>Baby Forgive Me</td>\n",
       "      <td>[come, night, eyes, baby, brave, wise, like, m...</td>\n",
       "    </tr>\n",
       "    <tr>\n",
       "      <th>4</th>\n",
       "      <td>Robyn</td>\n",
       "      <td>(So you wanna go out? How you gonna get there?...</td>\n",
       "      <td>Beach 2K20</td>\n",
       "      <td>[so, wanna, go, out, gonna, get, there, ok, ca...</td>\n",
       "    </tr>\n",
       "  </tbody>\n",
       "</table>\n",
       "</div>"
      ],
      "text/plain": [
       "  artist                                             lyrics            titles  \\\n",
       "0  Robyn  I light a candle in the morning  To signify th...           88 Days   \n",
       "1  Robyn  [Verse 1:] Boy you gotta want me, really reall...    Ain't No Thing   \n",
       "2  Robyn  It's like you're waiting for me to start There...  Anytime You Like   \n",
       "3  Robyn  Here come the night In your eyes Baby, be brav...   Baby Forgive Me   \n",
       "4  Robyn  (So you wanna go out? How you gonna get there?...        Beach 2K20   \n",
       "\n",
       "                                      cleaned_lyrics  \n",
       "0  [light, candle, morning, signify, still, mind,...  \n",
       "1  [boy, gotta, want, me, really, really, want, b...  \n",
       "2  [like, waiting, start, theres, right, moment, ...  \n",
       "3  [come, night, eyes, baby, brave, wise, like, m...  \n",
       "4  [so, wanna, go, out, gonna, get, there, ok, ca...  "
      ]
     },
     "execution_count": 12,
     "metadata": {},
     "output_type": "execute_result"
    }
   ],
   "source": [
    "print(\"Length of 88 Days by Robyn before cleaning: \", len(lyrics['lyrics'][0]))\n",
    "print(\" \")\n",
    "print(\"Length of 88 Days by Robyn after cleaning: \", len(lyrics['cleaned_lyrics'][0]))\n",
    "lyrics.head()"
   ]
  },
  {
   "cell_type": "markdown",
   "id": "f3080b86",
   "metadata": {},
   "source": [
    "### Calculate Sentiment"
   ]
  },
  {
   "cell_type": "code",
   "execution_count": 13,
   "id": "b60607de",
   "metadata": {},
   "outputs": [],
   "source": [
    "# your code here\n",
    "artist = []\n",
    "ly = []\n",
    "lyr = []\n",
    "song = []\n",
    "pos = []\n",
    "neg = []\n",
    "tot = []\n",
    "full = []\n",
    "for i, l in enumerate(lyrics['cleaned_lyrics']):\n",
    "    \n",
    "    artist.append(lyrics['artist'][i])\n",
    "    song.append(lyrics['titles'][i])\n",
    "    ly.append(lyrics['cleaned_lyrics'][i])\n",
    "    lyr.append(lyrics['lyrics'][i])\n",
    "    \n",
    "    sentiment = []\n",
    "    \n",
    "    for w in l:\n",
    "        if w in list(sentiment_df['word']):\n",
    "            sentiment.append(w)\n",
    "    song_sent = sentiment_df[sentiment_df['word'].isin(sentiment)]  \n",
    "    \n",
    "    sent = []\n",
    "    for c in Counter(sentiment):\n",
    "        sent.append(int(song_sent[song_sent['word'] == c]['sentiment'].head(1) * Counter(sentiment)[c]))\n",
    "    fp = []\n",
    "    fn = []\n",
    "    for n in sent:\n",
    "        if n > 0:\n",
    "            fp.append(n)\n",
    "        else:\n",
    "            fn.append(n)\n",
    "    pos.append(sum(fp))\n",
    "    neg.append(sum(fn))\n",
    "    tot.append(sum(sent))\n",
    "            \n",
    "    full.append(sent)\n",
    "    \n",
    "    \n",
    "song_sentiment = pd.DataFrame({'artist': artist, 'song': song, 'lyrics': lyr, 'cleaned_lyrics': ly, 'positive': pos, 'negative': neg, 'total': tot, 'full': full}) "
   ]
  },
  {
   "cell_type": "code",
   "execution_count": 14,
   "id": "b1e8ae3b",
   "metadata": {},
   "outputs": [
    {
     "data": {
      "text/html": [
       "<div>\n",
       "<style scoped>\n",
       "    .dataframe tbody tr th:only-of-type {\n",
       "        vertical-align: middle;\n",
       "    }\n",
       "\n",
       "    .dataframe tbody tr th {\n",
       "        vertical-align: top;\n",
       "    }\n",
       "\n",
       "    .dataframe thead th {\n",
       "        text-align: right;\n",
       "    }\n",
       "</style>\n",
       "<table border=\"1\" class=\"dataframe\">\n",
       "  <thead>\n",
       "    <tr style=\"text-align: right;\">\n",
       "      <th></th>\n",
       "      <th>artist</th>\n",
       "      <th>song</th>\n",
       "      <th>lyrics</th>\n",
       "      <th>cleaned_lyrics</th>\n",
       "      <th>positive</th>\n",
       "      <th>negative</th>\n",
       "      <th>total</th>\n",
       "      <th>full</th>\n",
       "    </tr>\n",
       "  </thead>\n",
       "  <tbody>\n",
       "    <tr>\n",
       "      <th>0</th>\n",
       "      <td>Robyn</td>\n",
       "      <td>88 Days</td>\n",
       "      <td>I light a candle in the morning  To signify th...</td>\n",
       "      <td>[light, candle, morning, signify, still, mind,...</td>\n",
       "      <td>42</td>\n",
       "      <td>-9</td>\n",
       "      <td>33</td>\n",
       "      <td>[-1, -1, 2, 2, 1, -3, 3, 2, 7, 16, 2, 2, -1, -...</td>\n",
       "    </tr>\n",
       "    <tr>\n",
       "      <th>1</th>\n",
       "      <td>Robyn</td>\n",
       "      <td>Ain't No Thing</td>\n",
       "      <td>[Verse 1:] Boy you gotta want me, really reall...</td>\n",
       "      <td>[boy, gotta, want, me, really, really, want, b...</td>\n",
       "      <td>8</td>\n",
       "      <td>-5</td>\n",
       "      <td>3</td>\n",
       "      <td>[-3, 4, 1, -1, 1, 1, -1, 1]</td>\n",
       "    </tr>\n",
       "    <tr>\n",
       "      <th>2</th>\n",
       "      <td>Robyn</td>\n",
       "      <td>Anytime You Like</td>\n",
       "      <td>It's like you're waiting for me to start There...</td>\n",
       "      <td>[like, waiting, start, theres, right, moment, ...</td>\n",
       "      <td>20</td>\n",
       "      <td>-26</td>\n",
       "      <td>-6</td>\n",
       "      <td>[8, 1, -1, -8, 1, -1, 1, -13, 5, 1, 1, -1, 1, ...</td>\n",
       "    </tr>\n",
       "    <tr>\n",
       "      <th>3</th>\n",
       "      <td>Robyn</td>\n",
       "      <td>Baby Forgive Me</td>\n",
       "      <td>Here come the night In your eyes Baby, be brav...</td>\n",
       "      <td>[come, night, eyes, baby, brave, wise, like, m...</td>\n",
       "      <td>39</td>\n",
       "      <td>0</td>\n",
       "      <td>39</td>\n",
       "      <td>[18, 1, 1, 1, 12, 1, 1, 1, 1, 1, 1]</td>\n",
       "    </tr>\n",
       "    <tr>\n",
       "      <th>4</th>\n",
       "      <td>Robyn</td>\n",
       "      <td>Beach 2K20</td>\n",
       "      <td>(So you wanna go out? How you gonna get there?...</td>\n",
       "      <td>[so, wanna, go, out, gonna, get, there, ok, ca...</td>\n",
       "      <td>28</td>\n",
       "      <td>-2</td>\n",
       "      <td>26</td>\n",
       "      <td>[-2, 5, 5, 5, 5, 5, 3]</td>\n",
       "    </tr>\n",
       "    <tr>\n",
       "      <th>...</th>\n",
       "      <td>...</td>\n",
       "      <td>...</td>\n",
       "      <td>...</td>\n",
       "      <td>...</td>\n",
       "      <td>...</td>\n",
       "      <td>...</td>\n",
       "      <td>...</td>\n",
       "      <td>...</td>\n",
       "    </tr>\n",
       "    <tr>\n",
       "      <th>410</th>\n",
       "      <td>Cher</td>\n",
       "      <td>You Better Sit Down Kids</td>\n",
       "      <td>Better sit down kids I'll tell you why, kids Y...</td>\n",
       "      <td>[better, sit, kids, ill, tell, why, kids, migh...</td>\n",
       "      <td>7</td>\n",
       "      <td>-15</td>\n",
       "      <td>-8</td>\n",
       "      <td>[2, -4, -5, -2, -2, 1, 1, -1, 1, 1, 1, -1]</td>\n",
       "    </tr>\n",
       "    <tr>\n",
       "      <th>411</th>\n",
       "      <td>Cher</td>\n",
       "      <td>You Don't Have To Say You Love Me</td>\n",
       "      <td>When I said I needed you You said you would al...</td>\n",
       "      <td>[said, needed, said, would, always, stay, chan...</td>\n",
       "      <td>6</td>\n",
       "      <td>-3</td>\n",
       "      <td>3</td>\n",
       "      <td>[-1, 6, -1, -1]</td>\n",
       "    </tr>\n",
       "    <tr>\n",
       "      <th>412</th>\n",
       "      <td>Cher</td>\n",
       "      <td>You Haven't Seen The Last Of Me</td>\n",
       "      <td>Feeling broken Barely holding on But there's j...</td>\n",
       "      <td>[feeling, broken, barely, holding, theres, som...</td>\n",
       "      <td>6</td>\n",
       "      <td>-14</td>\n",
       "      <td>-8</td>\n",
       "      <td>[-1, -1, 1, -5, 2, -3, 1, -2, 1, -1, -1, 1]</td>\n",
       "    </tr>\n",
       "    <tr>\n",
       "      <th>413</th>\n",
       "      <td>Cher</td>\n",
       "      <td>You Know It</td>\n",
       "      <td>You're the kinda of girl You can't get next to...</td>\n",
       "      <td>[kinda, girl, cant, get, next, shylying, walke...</td>\n",
       "      <td>15</td>\n",
       "      <td>-4</td>\n",
       "      <td>11</td>\n",
       "      <td>[1, 1, -2, 2, 4, 3, 3, -1, 1, -1]</td>\n",
       "    </tr>\n",
       "    <tr>\n",
       "      <th>414</th>\n",
       "      <td>Cher</td>\n",
       "      <td>Young And Pretty</td>\n",
       "      <td>Come from the suburbs into the city  They say ...</td>\n",
       "      <td>[come, suburbs, city, say, make, young, pretty...</td>\n",
       "      <td>17</td>\n",
       "      <td>-7</td>\n",
       "      <td>10</td>\n",
       "      <td>[5, 5, -1, 1, -1, -1, -1, 1, 1, -1, 2, -2, 2]</td>\n",
       "    </tr>\n",
       "  </tbody>\n",
       "</table>\n",
       "<p>415 rows × 8 columns</p>\n",
       "</div>"
      ],
      "text/plain": [
       "    artist                               song  \\\n",
       "0    Robyn                            88 Days   \n",
       "1    Robyn                     Ain't No Thing   \n",
       "2    Robyn                   Anytime You Like   \n",
       "3    Robyn                    Baby Forgive Me   \n",
       "4    Robyn                         Beach 2K20   \n",
       "..     ...                                ...   \n",
       "410   Cher           You Better Sit Down Kids   \n",
       "411   Cher  You Don't Have To Say You Love Me   \n",
       "412   Cher    You Haven't Seen The Last Of Me   \n",
       "413   Cher                        You Know It   \n",
       "414   Cher                   Young And Pretty   \n",
       "\n",
       "                                                lyrics  \\\n",
       "0    I light a candle in the morning  To signify th...   \n",
       "1    [Verse 1:] Boy you gotta want me, really reall...   \n",
       "2    It's like you're waiting for me to start There...   \n",
       "3    Here come the night In your eyes Baby, be brav...   \n",
       "4    (So you wanna go out? How you gonna get there?...   \n",
       "..                                                 ...   \n",
       "410  Better sit down kids I'll tell you why, kids Y...   \n",
       "411  When I said I needed you You said you would al...   \n",
       "412  Feeling broken Barely holding on But there's j...   \n",
       "413  You're the kinda of girl You can't get next to...   \n",
       "414  Come from the suburbs into the city  They say ...   \n",
       "\n",
       "                                        cleaned_lyrics  positive  negative  \\\n",
       "0    [light, candle, morning, signify, still, mind,...        42        -9   \n",
       "1    [boy, gotta, want, me, really, really, want, b...         8        -5   \n",
       "2    [like, waiting, start, theres, right, moment, ...        20       -26   \n",
       "3    [come, night, eyes, baby, brave, wise, like, m...        39         0   \n",
       "4    [so, wanna, go, out, gonna, get, there, ok, ca...        28        -2   \n",
       "..                                                 ...       ...       ...   \n",
       "410  [better, sit, kids, ill, tell, why, kids, migh...         7       -15   \n",
       "411  [said, needed, said, would, always, stay, chan...         6        -3   \n",
       "412  [feeling, broken, barely, holding, theres, som...         6       -14   \n",
       "413  [kinda, girl, cant, get, next, shylying, walke...        15        -4   \n",
       "414  [come, suburbs, city, say, make, young, pretty...        17        -7   \n",
       "\n",
       "     total                                               full  \n",
       "0       33  [-1, -1, 2, 2, 1, -3, 3, 2, 7, 16, 2, 2, -1, -...  \n",
       "1        3                        [-3, 4, 1, -1, 1, 1, -1, 1]  \n",
       "2       -6  [8, 1, -1, -8, 1, -1, 1, -13, 5, 1, 1, -1, 1, ...  \n",
       "3       39                [18, 1, 1, 1, 12, 1, 1, 1, 1, 1, 1]  \n",
       "4       26                             [-2, 5, 5, 5, 5, 5, 3]  \n",
       "..     ...                                                ...  \n",
       "410     -8         [2, -4, -5, -2, -2, 1, 1, -1, 1, 1, 1, -1]  \n",
       "411      3                                    [-1, 6, -1, -1]  \n",
       "412     -8        [-1, -1, 1, -5, 2, -3, 1, -2, 1, -1, -1, 1]  \n",
       "413     11                  [1, 1, -2, 2, 4, 3, 3, -1, 1, -1]  \n",
       "414     10      [5, 5, -1, 1, -1, -1, -1, 1, 1, -1, 2, -2, 2]  \n",
       "\n",
       "[415 rows x 8 columns]"
      ]
     },
     "execution_count": 14,
     "metadata": {},
     "output_type": "execute_result"
    }
   ],
   "source": [
    "song_sentiment.head(-5)"
   ]
  },
  {
   "cell_type": "markdown",
   "id": "0d52e5f2",
   "metadata": {},
   "source": [
    "## Robyn Sentiment Statistics"
   ]
  },
  {
   "cell_type": "code",
   "execution_count": 15,
   "id": "c3a7bc33",
   "metadata": {},
   "outputs": [
    {
     "name": "stdout",
     "output_type": "stream",
     "text": [
      "Robyn Mean Positive Sentiment Lyrics: 23.615384615384617\n",
      "Robyn Mean Negative Sentiment Lyrics: -15.259615384615385\n",
      "Robyn Mean Total Sentiment Lyrics: 8.35576923076923\n"
     ]
    }
   ],
   "source": [
    "print(\"Robyn Mean Positive Sentiment Lyrics:\", song_sentiment[song_sentiment['artist']=='Robyn']['positive'].mean())\n",
    "print(\"Robyn Mean Negative Sentiment Lyrics:\", song_sentiment[song_sentiment['artist']=='Robyn']['negative'].mean())\n",
    "print(\"Robyn Mean Total Sentiment Lyrics:\", song_sentiment[song_sentiment['artist']=='Robyn']['total'].mean())"
   ]
  },
  {
   "cell_type": "markdown",
   "id": "3a2b5491",
   "metadata": {},
   "source": [
    "### Negative Robyn Lyrics"
   ]
  },
  {
   "cell_type": "code",
   "execution_count": 16,
   "id": "209dc38d",
   "metadata": {},
   "outputs": [
    {
     "data": {
      "text/html": [
       "<div>\n",
       "<style scoped>\n",
       "    .dataframe tbody tr th:only-of-type {\n",
       "        vertical-align: middle;\n",
       "    }\n",
       "\n",
       "    .dataframe tbody tr th {\n",
       "        vertical-align: top;\n",
       "    }\n",
       "\n",
       "    .dataframe thead th {\n",
       "        text-align: right;\n",
       "    }\n",
       "</style>\n",
       "<table border=\"1\" class=\"dataframe\">\n",
       "  <thead>\n",
       "    <tr style=\"text-align: right;\">\n",
       "      <th></th>\n",
       "      <th>artist</th>\n",
       "      <th>song</th>\n",
       "      <th>lyrics</th>\n",
       "      <th>cleaned_lyrics</th>\n",
       "      <th>positive</th>\n",
       "      <th>negative</th>\n",
       "      <th>total</th>\n",
       "      <th>full</th>\n",
       "    </tr>\n",
       "  </thead>\n",
       "  <tbody>\n",
       "    <tr>\n",
       "      <th>27</th>\n",
       "      <td>Robyn</td>\n",
       "      <td>Don't Fucking Tell Me What To Do 2</td>\n",
       "      <td>My drinking is killing me My drinking is killi...</td>\n",
       "      <td>[drinking, killing, drinking, killing, drinkin...</td>\n",
       "      <td>6</td>\n",
       "      <td>-96</td>\n",
       "      <td>-90</td>\n",
       "      <td>[-16, -68, -3, 2, 2, 2, -9]</td>\n",
       "    </tr>\n",
       "    <tr>\n",
       "      <th>26</th>\n",
       "      <td>Robyn</td>\n",
       "      <td>Don't Fucking Tell Me What To Do</td>\n",
       "      <td>My drinking is killing me My drinking is killi...</td>\n",
       "      <td>[drinking, killing, drinking, killing, drinkin...</td>\n",
       "      <td>6</td>\n",
       "      <td>-96</td>\n",
       "      <td>-90</td>\n",
       "      <td>[-16, -68, -3, 2, 2, 2, -9]</td>\n",
       "    </tr>\n",
       "    <tr>\n",
       "      <th>18</th>\n",
       "      <td>Robyn</td>\n",
       "      <td>Criminal Intent</td>\n",
       "      <td>Somebody alert the authorities, I got criminal...</td>\n",
       "      <td>[somebody, alert, authorities, got, criminal, ...</td>\n",
       "      <td>9</td>\n",
       "      <td>-60</td>\n",
       "      <td>-51</td>\n",
       "      <td>[-16, -7, -7, -7, -8, -1, 1, -1, 2, -1, -1, 1,...</td>\n",
       "    </tr>\n",
       "    <tr>\n",
       "      <th>65</th>\n",
       "      <td>Robyn</td>\n",
       "      <td>Love Kills</td>\n",
       "      <td>If you're looking for love Get a heart made of...</td>\n",
       "      <td>[looking, love, get, heart, made, steel, cus, ...</td>\n",
       "      <td>40</td>\n",
       "      <td>-64</td>\n",
       "      <td>-24</td>\n",
       "      <td>[24, -14, -4, -4, 4, 8, -7, -10, -10, -7, 4, -...</td>\n",
       "    </tr>\n",
       "  </tbody>\n",
       "</table>\n",
       "</div>"
      ],
      "text/plain": [
       "   artist                                song  \\\n",
       "27  Robyn  Don't Fucking Tell Me What To Do 2   \n",
       "26  Robyn    Don't Fucking Tell Me What To Do   \n",
       "18  Robyn                     Criminal Intent   \n",
       "65  Robyn                          Love Kills   \n",
       "\n",
       "                                               lyrics  \\\n",
       "27  My drinking is killing me My drinking is killi...   \n",
       "26  My drinking is killing me My drinking is killi...   \n",
       "18  Somebody alert the authorities, I got criminal...   \n",
       "65  If you're looking for love Get a heart made of...   \n",
       "\n",
       "                                       cleaned_lyrics  positive  negative  \\\n",
       "27  [drinking, killing, drinking, killing, drinkin...         6       -96   \n",
       "26  [drinking, killing, drinking, killing, drinkin...         6       -96   \n",
       "18  [somebody, alert, authorities, got, criminal, ...         9       -60   \n",
       "65  [looking, love, get, heart, made, steel, cus, ...        40       -64   \n",
       "\n",
       "    total                                               full  \n",
       "27    -90                        [-16, -68, -3, 2, 2, 2, -9]  \n",
       "26    -90                        [-16, -68, -3, 2, 2, 2, -9]  \n",
       "18    -51  [-16, -7, -7, -7, -8, -1, 1, -1, 2, -1, -1, 1,...  \n",
       "65    -24  [24, -14, -4, -4, 4, 8, -7, -10, -10, -7, 4, -...  "
      ]
     },
     "execution_count": 16,
     "metadata": {},
     "output_type": "execute_result"
    }
   ],
   "source": [
    "song_sentiment[song_sentiment['artist'] == 'Robyn'].sort_values(by='total').head(4)"
   ]
  },
  {
   "cell_type": "code",
   "execution_count": 17,
   "id": "357c91f1",
   "metadata": {},
   "outputs": [
    {
     "name": "stdout",
     "output_type": "stream",
     "text": [
      "[\"Somebody alert the authorities, I got criminal intent Conspiracy to engage in lewd and indecent acts and events I'mma wind it, grind it, oh my, I'mma say it again Somebody alert the authorities, she's got criminal intent  Somebody alert the authorities, I got criminal intent Conspiracy to engage in lewd and indecent acts and events I'mma wind it, grind it, oh my, I'mma say it again Somebody alert the authorities, she's got criminal intent  Somebody alert the authorities, I got criminal intent Conspiracy to engage in lewd and indecent acts and events I'mma wind it, grind it, oh my, I'mma say it again Somebody alert the authorities, I got criminal intent  - Will the defendant please rise? State your full name for the record. - Robyn - Do you wish to say anything before the sentence is imposed? - I do your Honor!  You know, from time to time I need to get down Unwind and just bump and grind Get my shot on, have some fun A little dirty never hurt anyone I admit, I can get somewhat X-rated on the floor But your Honor, how's that something you get incarcerated for?  I-I-I done nothing that's wrong  ?? something that's frowned upon I object most strongly Judge, they played my song  Somebody alert the authorities, I got criminal intent Conspiracy to engage in lewd and indecent acts and events I'mma wind it, grind it, oh my, I'mma say it again Somebody alert the authorities, she's got criminal intent  Somebody alert the authorities, I got criminal intent Conspiracy to engage in lewd and indecent acts and events I'mma wind it, grind it, oh my, I'mma say it again Somebody alert the authorities, I got criminal intent Somebody alert the authorities, she's got criminal intent  Y-yo-yo Judge, may the record reflect the fact  I don't have any priors Besides, would you pardon me  For being inappropriately attired? But yo, listen, them cuffs down at county Totally ripped up my pantyhose And some snitch punk at legal aid Stole my voucher for court clothes  I done nothing that's wrong  ?? something that's frowned upon I object most strongly Judge, they played my song  Somebody alert the authorities, I got criminal intent Conspiracy to engage in lewd and indecent acts and events I'mma wind it, grind it, oh my, I'mma say it again Somebody alert the authorities, she's got criminal intent  Somebody alert the authorities, I got criminal intent Conspiracy to engage in lewd and indecent acts and events I'mma wind it, grind it, oh my, I'mma say it again Somebody alert the authorities, I got criminal intent Somebody alert the authorities, she's got criminal intent \"]\n"
     ]
    }
   ],
   "source": [
    "print(song_sentiment[song_sentiment['song'] == \"Criminal Intent\"]['lyrics'].values)"
   ]
  },
  {
   "cell_type": "code",
   "execution_count": 18,
   "id": "826df40c",
   "metadata": {},
   "outputs": [
    {
     "name": "stdout",
     "output_type": "stream",
     "text": [
      "[\"My drinking is killing me My drinking is killing me My drinking is killing me My drinking is killing me My drinking is killing me My drinking is killing me My drinking is killing me My drinking is killing me My drinking is killing me My drinking is killing me My drinking is killing me My drinking is killing me My drinking is killing me My drinking is killing me My drinking is killing me  My smoking is killing me My diet is killing me My heels are killing me My shopping's killing me My ego is killing me Can't sleep, it's killing me My label's killing me Kickdrum  My phone is killing me My email is killing me These hours are killing me My tour is killing me This flight is killing me My manager's killing me My mother's killing me My landlord's killing me My boss is killing me The TV is killing me Your nagging is killing me My boyfriend's killing me My talking's killing me Killing me Killing me  Can't sleep, it's killing me My dreams are killing me TV is killing me My talking's killing me Let go, you're killing me Ease up, you're killing me Calm down, you're killing me My god, you're killing me  My drinking is killing me My smoking is killing me My head is killing me My mind is killing me My back is killing me My neck is killing me Your nagging is killing me My gut is killing me My PMS is killing me My email is killing me These hours are killing me My tour is killing me This flight is killing me My manager's killing me My mother's killing me My landlord's killing me My smoking is killing me The TV is killing me Your nagging is killing me Ease up, you're killing me Let go, you're killing me Calm down, you're killing me My god, you're killing me  Don't fucking tell me what to do, do Don't fucking tell me what to do, do, do, do, do Don't fucking tell me what to do Don't fucking tell me what to do, do Don't fucking tell me what to do, do Don't fucking tell me what to do Don't fucking tell me what to do Don't fucking tell me what to do Don't fucking tell me what to do \"]\n"
     ]
    }
   ],
   "source": [
    "print(song_sentiment[song_sentiment['song'] == \"Don't Fucking Tell Me What To Do\"]['lyrics'].values)"
   ]
  },
  {
   "cell_type": "code",
   "execution_count": 19,
   "id": "f62b3169",
   "metadata": {},
   "outputs": [
    {
     "name": "stdout",
     "output_type": "stream",
     "text": [
      "[\"If you're looking for love Get a heart made of steel 'cus you know that love kills Don't go messing with love It'll hurt you for real, don't you know that love kills  If you're looking for love Get a heart made of steel 'cus you know that love kills Don't go messing with love It'll hurt you for real, don't you know that love kills  Protect yourself, 'cus you'll wreck yourself In this cold, hard world, so check yourself You conceal your dreams and you shield yourself 'Til that one kind soul reveals itself  Protect yourself, 'cus you'll wreck yourself In this cold, hard world, so check yourself You conceal your dreams and you shield yourself 'Til that one kind soul reveals itself  If you're looking for love Get a heart made of steel 'cus you know that love kills Don't go messing with love It'll hurt you for real, don't you know that love kills  If you're looking for love Get a heart made of steel 'cus you know that love kills Don't go messing with love It'll hurt you for real, don't you know that love kills  Mm, and I know when you're in to deep you still think of me, sometimes Stockholm syndrome and misery, there's a penalty for love crimes  Protect yourself, 'cus you'll wreck yourself In this cold, hard world, so check yourself You conceal your dreams and you shield yourself 'Til that one kind soul reveals itself  Protect yourself, 'cus you'll wreck yourself In this cold, hard world, so check yourself You conceal your dreams and you shield yourself 'Til that one kind soul reveals itself  Protect yourself So check yourself  Mm, and I know when you're in to deep, is to think of me, sometimes Stockholm syndrome and misery, there's a penalty for love crimes  Protect yourself, 'cus you'll wreck yourself In this cold, hard world, 'cus you know that love kills You conceal your dreams and you shield yourself In this cold, hard world, don't you know that love kills  Protect yourself, 'cus you'll wreck yourself In this cold, hard world, 'cus you know that love kills You conceal your dreams and you shield yourself In this cold, hard world, don't you know that love kills  Protect yourself, 'cus you'll wreck yourself In this cold, hard world, 'cus you know that love kills You conceal your dreams and you shield yourself In this cold, hard world, don't you know that love kills \"]\n"
     ]
    }
   ],
   "source": [
    "print(song_sentiment[song_sentiment['song'] == \"Love Kills\"]['lyrics'].values)"
   ]
  },
  {
   "cell_type": "markdown",
   "id": "304ab214",
   "metadata": {},
   "source": [
    "### Positive Robyn Lyrics"
   ]
  },
  {
   "cell_type": "code",
   "execution_count": 35,
   "id": "045f21ab",
   "metadata": {},
   "outputs": [
    {
     "data": {
      "text/html": [
       "<div>\n",
       "<style scoped>\n",
       "    .dataframe tbody tr th:only-of-type {\n",
       "        vertical-align: middle;\n",
       "    }\n",
       "\n",
       "    .dataframe tbody tr th {\n",
       "        vertical-align: top;\n",
       "    }\n",
       "\n",
       "    .dataframe thead th {\n",
       "        text-align: right;\n",
       "    }\n",
       "</style>\n",
       "<table border=\"1\" class=\"dataframe\">\n",
       "  <thead>\n",
       "    <tr style=\"text-align: right;\">\n",
       "      <th></th>\n",
       "      <th>artist</th>\n",
       "      <th>song</th>\n",
       "      <th>lyrics</th>\n",
       "      <th>cleaned_lyrics</th>\n",
       "      <th>positive</th>\n",
       "      <th>negative</th>\n",
       "      <th>total</th>\n",
       "      <th>full</th>\n",
       "    </tr>\n",
       "  </thead>\n",
       "  <tbody>\n",
       "    <tr>\n",
       "      <th>64</th>\n",
       "      <td>Robyn</td>\n",
       "      <td>Love Is Free</td>\n",
       "      <td>Free Love is free, baby Free Love is free, bab...</td>\n",
       "      <td>[free, love, free, baby, free, love, free, bab...</td>\n",
       "      <td>145</td>\n",
       "      <td>-20</td>\n",
       "      <td>125</td>\n",
       "      <td>[31, 18, 24, 46, 3, -3, 3, -3, 3, 3, -8, 6, 2,...</td>\n",
       "    </tr>\n",
       "    <tr>\n",
       "      <th>99</th>\n",
       "      <td>Robyn</td>\n",
       "      <td>We Dance To The Beat 2</td>\n",
       "      <td>We dance to the beat We dance to the beat We d...</td>\n",
       "      <td>[dance, beat, dance, beat, dance, beat, dance,...</td>\n",
       "      <td>82</td>\n",
       "      <td>-16</td>\n",
       "      <td>66</td>\n",
       "      <td>[67, 1, 1, -1, 1, -1, 1, -3, 3, 1, 1, 1, 1, -1...</td>\n",
       "    </tr>\n",
       "    <tr>\n",
       "      <th>98</th>\n",
       "      <td>Robyn</td>\n",
       "      <td>We Dance To The Beat</td>\n",
       "      <td>We dance to the beat We dance to the beat We d...</td>\n",
       "      <td>[dance, beat, dance, beat, dance, beat, dance,...</td>\n",
       "      <td>82</td>\n",
       "      <td>-16</td>\n",
       "      <td>66</td>\n",
       "      <td>[67, 1, 1, -1, 1, -1, 1, -3, 3, 1, 1, 1, 1, -1...</td>\n",
       "    </tr>\n",
       "    <tr>\n",
       "      <th>7</th>\n",
       "      <td>Robyn</td>\n",
       "      <td>Between The Lines</td>\n",
       "      <td>Even reading in between the lines  Every day, ...</td>\n",
       "      <td>[even, reading, lines, every, day, hit, phone,...</td>\n",
       "      <td>57</td>\n",
       "      <td>-5</td>\n",
       "      <td>52</td>\n",
       "      <td>[19, -3, 3, 13, 15, 1, -1, 2, 1, -1, 2, 1]</td>\n",
       "    </tr>\n",
       "  </tbody>\n",
       "</table>\n",
       "</div>"
      ],
      "text/plain": [
       "   artist                    song  \\\n",
       "64  Robyn            Love Is Free   \n",
       "99  Robyn  We Dance To The Beat 2   \n",
       "98  Robyn    We Dance To The Beat   \n",
       "7   Robyn       Between The Lines   \n",
       "\n",
       "                                               lyrics  \\\n",
       "64  Free Love is free, baby Free Love is free, bab...   \n",
       "99  We dance to the beat We dance to the beat We d...   \n",
       "98  We dance to the beat We dance to the beat We d...   \n",
       "7   Even reading in between the lines  Every day, ...   \n",
       "\n",
       "                                       cleaned_lyrics  positive  negative  \\\n",
       "64  [free, love, free, baby, free, love, free, bab...       145       -20   \n",
       "99  [dance, beat, dance, beat, dance, beat, dance,...        82       -16   \n",
       "98  [dance, beat, dance, beat, dance, beat, dance,...        82       -16   \n",
       "7   [even, reading, lines, every, day, hit, phone,...        57        -5   \n",
       "\n",
       "    total                                               full  \n",
       "64    125  [31, 18, 24, 46, 3, -3, 3, -3, 3, 3, -8, 6, 2,...  \n",
       "99     66  [67, 1, 1, -1, 1, -1, 1, -3, 3, 1, 1, 1, 1, -1...  \n",
       "98     66  [67, 1, 1, -1, 1, -1, 1, -3, 3, 1, 1, 1, 1, -1...  \n",
       "7      52         [19, -3, 3, 13, 15, 1, -1, 2, 1, -1, 2, 1]  "
      ]
     },
     "execution_count": 35,
     "metadata": {},
     "output_type": "execute_result"
    }
   ],
   "source": [
    "song_sentiment[song_sentiment['artist'] == 'Robyn'].sort_values(by='total', ascending = False).head(4)"
   ]
  },
  {
   "cell_type": "code",
   "execution_count": 36,
   "id": "70c2d361",
   "metadata": {},
   "outputs": [
    {
     "name": "stdout",
     "output_type": "stream",
     "text": [
      "[\"Free Love is free, baby Free Love is free, baby Boom boom boom boom boom chica boom Let me give it to you, baby Chica boom chica boom chica boom Chica boom chica boom chica boom Free Love is free, baby Free Love is free, baby Boom boom boom boom boom chica boom Let me give it to you, baby  I'ma give it to you, baby I'ma give it when I'm ready Some lose, some steady Some light, some heavy It's all over this city Sometimes in the ugly, sometimes in the pretty You never know where you get it cause you can't control it and you can't unfold it, slow down  I'ma give it to you, baby I'ma give it when I'm ready Some lose, some steady Some light, some heavy It's all over this city Sometimes in the ugly, sometimes in the pretty You never know where you get it cause you can't control it and you can't unfold it, slow down  Free Love is free, baby Free Love is free, baby Boom boom boom boom boom chica boom Let me give it to you, baby Yeah! Yeah! Yeah! Yeah! Love is free, baby Love is free, baby  I'ma give it to you, baby I'ma give it like a motha Safe like a rubber Mutter like a stutter It's all over this city Sometimes in the nitty, sometimes in the gritty You know I'ma give it to you better I'ma give you love forever No, you can't control it, slow down  I'ma give it to you, baby I'ma give it like a motha Safe like a rubber Mutter like a stutter It's all over this city Sometimes in the nitty, sometimes in the gritty You know I'ma give it to you better I'ma give you love forever No, you can't control it, slow down  Free Love is free, baby Free Love is free, baby Boom boom boom boom boom chica boom Let me give it to you, baby Boom boom boom boom boom Chica boom chica boom chica boom Boom boom boom boom boom Chica boom chica boom chica boom Free Love is free, baby Free Love is free, baby  AprÃƒÂ©ndelo, aprÃƒÂ©ndelo Te lo digo right now, sÃƒÂ³lo entiÃƒÂ©ndelo AprÃƒÂ©ndelo, aprÃƒÂ©ndelo Te lo digo right now, sÃƒÂ³lo entiÃƒÂ©ndelo Slow down  AprÃƒÂ©ndelo, aprÃƒÂ©ndelo Te lo digo right now, sÃƒÂ³lo entiÃƒÂ©ndelo AprÃƒÂ©ndelo, aprÃƒÂ©ndelo Te lo digo right now, sÃƒÂ³lo entiÃƒÂ©ndelo Slow down  I'ma give it to you, baby I'ma give it when I'm ready Some lose, some steady Some light, some heavy It's all over this city Sometimes in the ugly, sometimes in the pretty You never know where you get it cause you can't control it and you can't unfold it, slow down  Slow down [x6] Free Love is free, baby Love is free, baby So free [x4] You know Love is free So free Free Ã¢Â€Â“ Love is free, baby [x8] So free \"]\n"
     ]
    }
   ],
   "source": [
    "print(song_sentiment[song_sentiment['song'] == \"Love Is Free\"]['lyrics'].values)"
   ]
  },
  {
   "cell_type": "code",
   "execution_count": 37,
   "id": "d37e52d8",
   "metadata": {},
   "outputs": [
    {
     "name": "stdout",
     "output_type": "stream",
     "text": [
      "[\"We dance to the beat We dance to the beat We dance to the beat We dance to the beat We dance to the beat We dance to the beat We dance to the beat We dance to the beat We dance to the beat We dance to the beat We dance to the beat We dance to the beat We dance to the beat We dance to the beat We dance to the beat We dance to the beat  We dance to the beat of the continents shifting under our feet We dance to the beat We dance to the beat We dance to the beat of a new, better, faster breed We dance to the beat We dance to the beat We dance to the beat of radioactivity blocking the exits We dance to the beat We dance to the beat We dance to the beat of false math and unrecognised genius We dance to the beat We dance to the beat We dance to the beat of distorted knowledge passed on We dance to the beat We dance to the beat We dance to the beat of a distant rumble We dance to the beat We dancing And it's loud and proud And it's loud and proud And it's loud and proud  We dance to the beat We dance to the beat We dance to the beat We dance to the beat  We dance to the beat of silent mutation We dance to the beat of your brain not evolving fast enough We dance to the beat of raw talent wasted We dance to the beat of bad kissers clicking teeth We dance to the beat of opportunity knocking We dance to the beat of an eviction next door We dance to the beat We dance to the beat  Of another recycled rebellion Of consolidating assets Of another crowd losing it Of your voice breaking up in static Of suburbia burning Of communication gone mad We dance to the beat We dance to the beat We dance to the beat We dance to the beat  And we don't stop And we don't stop And we don't stop And we don't stop And we don't stop  We dance to the beat We dance to the beat We dance to the beat We dance to the beat And we don't stop And we don't stop  We dance to the beat of a billion charges of endorphin We dance to the beat We dance to the beat We dance to the beat of a love lost and then won back We dance to the beat We dance to the beat We dance to the beat of source code and conjuring We dance to the beat We dance to the beat We dance to the beat of gravity giving us a break We dance to the beat We dance to the beat We dance to the beat We dance... \"]\n"
     ]
    }
   ],
   "source": [
    "print(song_sentiment[song_sentiment['song'] == \"We Dance To The Beat\"]['lyrics'].values)"
   ]
  },
  {
   "cell_type": "code",
   "execution_count": 38,
   "id": "5713af93",
   "metadata": {},
   "outputs": [
    {
     "name": "stdout",
     "output_type": "stream",
     "text": [
      "[\"Even reading in between the lines  Every day, you hit my phone up Every time (You hit my phone up) It makes my heart jump I want you to say it, baby (It makes my heart jump) Say it like you mean it It's right there on the tip of your tongue (You hit my phone up) And I can feel it And I like it baby Don't you stop (Don't stop what you're doing, baby) You know I like it You stretch it out (You know I like it) You give massages It's not your words (You know I like it) It's what's in between them There's no need to spell out (It makes my heart jump) I know you want it And I like it baby  I'm reading in between the lines I'm reading in between the lines (You got me reading in between the lines) I'm reading in between the lines (Even reading in between the lines) I'm reading in between the lines (You got me reading in between the lines) And I like it, baby And I like it, baby (Even reading in between the lines)  I don't mind (i don't really mind it baby) When we get silent Pressure's rising, it's so intense (When we get silent) We're making diamonds There's no need to say it baby (We're making diamonds) 'Cause I can tell you mean it All over the tip of your tongue (We're making diamonds) You got me spaced out And I like it, baby  I'm reading in between the lines I'm reading in between the lines (You got me reading in between the lines) I'm reading in between the lines (Even reading in between the lines) I'm reading in between the lines (You got me reading in between the lines) And I like it, baby And I like it, baby (Even reading in between the lines)  And I like it, baby And I like it And I like it, baby And I like it (Relax) (That's amazing) You got me reading in between the lines (That shit's so good) (Relax) You got me reading in between the lines (Amazing) \"]\n"
     ]
    }
   ],
   "source": [
    "print(song_sentiment[song_sentiment['song'] == \"Between The Lines\"]['lyrics'].values)"
   ]
  },
  {
   "cell_type": "markdown",
   "id": "605a89db",
   "metadata": {},
   "source": [
    "## Cher Lyric Sentiment"
   ]
  },
  {
   "cell_type": "code",
   "execution_count": 39,
   "id": "aa0fbd1b",
   "metadata": {},
   "outputs": [
    {
     "name": "stdout",
     "output_type": "stream",
     "text": [
      "Cher Mean Positive Sentiment Lyrics: 16.604430379746834\n",
      "Cher Mean Negative Sentiment Lyrics: -10.949367088607595\n",
      "Cher Mean Total Sentiment Lyrics: 5.655063291139241\n"
     ]
    }
   ],
   "source": [
    "print(\"Cher Mean Positive Sentiment Lyrics:\", song_sentiment[song_sentiment['artist']=='Cher']['positive'].mean())\n",
    "print(\"Cher Mean Negative Sentiment Lyrics:\", song_sentiment[song_sentiment['artist']=='Cher']['negative'].mean())\n",
    "print(\"Cher Mean Total Sentiment Lyrics:\", song_sentiment[song_sentiment['artist']=='Cher']['total'].mean())"
   ]
  },
  {
   "cell_type": "markdown",
   "id": "3eb54edd",
   "metadata": {},
   "source": [
    "### Negative Cher"
   ]
  },
  {
   "cell_type": "code",
   "execution_count": 40,
   "id": "863f8c3a",
   "metadata": {},
   "outputs": [
    {
     "data": {
      "text/html": [
       "<div>\n",
       "<style scoped>\n",
       "    .dataframe tbody tr th:only-of-type {\n",
       "        vertical-align: middle;\n",
       "    }\n",
       "\n",
       "    .dataframe tbody tr th {\n",
       "        vertical-align: top;\n",
       "    }\n",
       "\n",
       "    .dataframe thead th {\n",
       "        text-align: right;\n",
       "    }\n",
       "</style>\n",
       "<table border=\"1\" class=\"dataframe\">\n",
       "  <thead>\n",
       "    <tr style=\"text-align: right;\">\n",
       "      <th></th>\n",
       "      <th>artist</th>\n",
       "      <th>song</th>\n",
       "      <th>lyrics</th>\n",
       "      <th>cleaned_lyrics</th>\n",
       "      <th>positive</th>\n",
       "      <th>negative</th>\n",
       "      <th>total</th>\n",
       "      <th>full</th>\n",
       "    </tr>\n",
       "  </thead>\n",
       "  <tbody>\n",
       "    <tr>\n",
       "      <th>120</th>\n",
       "      <td>Cher</td>\n",
       "      <td>Bang-Bang</td>\n",
       "      <td>Bang bang you shot me down Bang bang I hit the...</td>\n",
       "      <td>[bang, bang, shot, bang, bang, hit, ground, ba...</td>\n",
       "      <td>16</td>\n",
       "      <td>-87</td>\n",
       "      <td>-71</td>\n",
       "      <td>[-62, -10, -4, -4, 9, -1, 1, 1, -1, 1, 1, 1, -...</td>\n",
       "    </tr>\n",
       "    <tr>\n",
       "      <th>121</th>\n",
       "      <td>Cher</td>\n",
       "      <td>Bang Bang (My Baby Shot Me Down)</td>\n",
       "      <td>I was five and he was six We rode on horses ma...</td>\n",
       "      <td>[five, six, rode, horses, made, sticks, wore, ...</td>\n",
       "      <td>7</td>\n",
       "      <td>-40</td>\n",
       "      <td>-33</td>\n",
       "      <td>[-1, 1, 1, -1, -24, -5, -3, -3, 2, 1, -1, 1, 1...</td>\n",
       "    </tr>\n",
       "    <tr>\n",
       "      <th>300</th>\n",
       "      <td>Cher</td>\n",
       "      <td>Outrageous</td>\n",
       "      <td>Outrageous, outrageous (They say) I'm outrageo...</td>\n",
       "      <td>[outrageous, outrageous, they, say, im, outrag...</td>\n",
       "      <td>6</td>\n",
       "      <td>-36</td>\n",
       "      <td>-30</td>\n",
       "      <td>[-15, -7, -1, -1, 2, -1, -2, -1, -1, -1, -1, 1...</td>\n",
       "    </tr>\n",
       "  </tbody>\n",
       "</table>\n",
       "</div>"
      ],
      "text/plain": [
       "    artist                              song  \\\n",
       "120   Cher                         Bang-Bang   \n",
       "121   Cher  Bang Bang (My Baby Shot Me Down)   \n",
       "300   Cher                        Outrageous   \n",
       "\n",
       "                                                lyrics  \\\n",
       "120  Bang bang you shot me down Bang bang I hit the...   \n",
       "121  I was five and he was six We rode on horses ma...   \n",
       "300  Outrageous, outrageous (They say) I'm outrageo...   \n",
       "\n",
       "                                        cleaned_lyrics  positive  negative  \\\n",
       "120  [bang, bang, shot, bang, bang, hit, ground, ba...        16       -87   \n",
       "121  [five, six, rode, horses, made, sticks, wore, ...         7       -40   \n",
       "300  [outrageous, outrageous, they, say, im, outrag...         6       -36   \n",
       "\n",
       "     total                                               full  \n",
       "120    -71  [-62, -10, -4, -4, 9, -1, 1, 1, -1, 1, 1, 1, -...  \n",
       "121    -33  [-1, 1, 1, -1, -24, -5, -3, -3, 2, 1, -1, 1, 1...  \n",
       "300    -30  [-15, -7, -1, -1, 2, -1, -2, -1, -1, -1, -1, 1...  "
      ]
     },
     "execution_count": 40,
     "metadata": {},
     "output_type": "execute_result"
    }
   ],
   "source": [
    "song_sentiment[song_sentiment['artist'] == 'Cher'].sort_values(by='total').head(3)"
   ]
  },
  {
   "cell_type": "code",
   "execution_count": 41,
   "id": "f6812c57",
   "metadata": {},
   "outputs": [
    {
     "name": "stdout",
     "output_type": "stream",
     "text": [
      "[\"Bang bang you shot me down Bang bang I hit the ground Bang bang that awful sound Bang bang my baby shot me down  I was five and you were six We rode on horses made of sticks I wore black you wore white You would always win the fight  Bang bang you shot me down Bang bang I hit the ground Bang bang that awful sound Bang bang my baby shot me down  Seasons came and changed the time I grew up I called you mine You would always laugh and say Remember when we used to play  Bang bang you shot me down Bang bang and I hit the ground Bang bang that awful sound Bang bang my baby shot me down  Music played and people sang Just for me the church bells rang After echoes from a gun We both vowed that we'd be one  Now you're gone I don't know why Sometimes I cry You didn't say goodbye You didn't take the time to lie  Bang bang you shot me down Bang bang I hit the ground Bang bang that awful sound Bang bang my baby shot me down  Bang bang you shot me right between my eyes Bang bang you can't go paralyzed Bang bang bang bang bang bang Bang bang oh baby I'm laying on the ground Bang bang I'll never come around  Bang bang Bang bang Oh baby Bang bang Oh baby come and wrap me Bang bang You see how sweet it's gonna be  Bang bang Bang bang Bang bang Oh my baby my baby shot me down Bang bang I'm up on the ground now \"]\n"
     ]
    }
   ],
   "source": [
    "print(song_sentiment[song_sentiment['song'] == \"Bang-Bang\"]['lyrics'].values)"
   ]
  },
  {
   "cell_type": "code",
   "execution_count": 42,
   "id": "98d8dfc5",
   "metadata": {},
   "outputs": [
    {
     "name": "stdout",
     "output_type": "stream",
     "text": [
      "[\"I was five and he was six We rode on horses made of sticks He wore black and I wore white He would always win the fight  Bang bang, he shot me down Bang bang, I hit the ground Bang bang, that awful sound Bang bang, my baby shot me down  Seasons came and changed the time When I grew up I called him mine He would always laugh and say Remember when we used to play  Bang bang, I shot you down Bang bang, you hit the ground Bang bang, that awful sound Bang bang, I used to shoot you down  Music played and people sang Just for me the church bells rang  Now he's gone I don't know why And 'til this day, sometimes I cry He didn't even say goodbye He didn't take the time to lie  Bang bang, he shot me down Bang bang, I hit the ground Bang bang, that awful sound Bang bang, my baby shot me down \"]\n"
     ]
    }
   ],
   "source": [
    "print(song_sentiment[song_sentiment['song'] == \"Bang Bang (My Baby Shot Me Down)\"]['lyrics'].values)"
   ]
  },
  {
   "cell_type": "code",
   "execution_count": 43,
   "id": "7f0503b8",
   "metadata": {},
   "outputs": [
    {
     "name": "stdout",
     "output_type": "stream",
     "text": [
      "[\"Outrageous, outrageous (They say) I'm outrageous It's the rage  I'm gonna wear what I will and spend some And I will be dress to kill don'tcha know And when the lights come up I'm ready I'm ready To put on a show with class And if I clash it's cause I want to What a show and I want everyone to know They're gonna fly up, get an eyeful Everything that's craved from me I'm gonna be, I'm gonna be outrageous  Outrageous (They say) I'm outrageous It's the rage it's the rage  With my long black hair hanging way down to my Ask me no questions and I'll tell you no lies Don't tell me what to do don't tell me what to be See I don't trust anybody else's traits about make-up and me  Well in my show I let everything go Is what you want is whatcha wanna see from me But when the curtain comes down And you're on your way back home I change into my jeans that are split at the seam I grab my funky black jacket and make quite a racket You drive like you're an outlaw Cause everything that's craved from me I'm gonna be, I'm gonna be outrageous  So outrageous I'm outrageous honey yes a rage It's the rage Outrageous, outrageous I'm outrageous It's the rage it's a rage Outrageous, outrageous They say I'm outrageous \"]\n"
     ]
    }
   ],
   "source": [
    "print(song_sentiment[song_sentiment['song'] == \"Outrageous\"]['lyrics'].values)"
   ]
  },
  {
   "cell_type": "markdown",
   "id": "34e2dfb8",
   "metadata": {},
   "source": [
    "### Positive Cher"
   ]
  },
  {
   "cell_type": "code",
   "execution_count": 44,
   "id": "0d0544d5",
   "metadata": {},
   "outputs": [
    {
     "data": {
      "text/html": [
       "<div>\n",
       "<style scoped>\n",
       "    .dataframe tbody tr th:only-of-type {\n",
       "        vertical-align: middle;\n",
       "    }\n",
       "\n",
       "    .dataframe tbody tr th {\n",
       "        vertical-align: top;\n",
       "    }\n",
       "\n",
       "    .dataframe thead th {\n",
       "        text-align: right;\n",
       "    }\n",
       "</style>\n",
       "<table border=\"1\" class=\"dataframe\">\n",
       "  <thead>\n",
       "    <tr style=\"text-align: right;\">\n",
       "      <th></th>\n",
       "      <th>artist</th>\n",
       "      <th>song</th>\n",
       "      <th>lyrics</th>\n",
       "      <th>cleaned_lyrics</th>\n",
       "      <th>positive</th>\n",
       "      <th>negative</th>\n",
       "      <th>total</th>\n",
       "      <th>full</th>\n",
       "    </tr>\n",
       "  </thead>\n",
       "  <tbody>\n",
       "    <tr>\n",
       "      <th>259</th>\n",
       "      <td>Cher</td>\n",
       "      <td>Love And Understanding</td>\n",
       "      <td>Here, here in this world Where do we go? Where...</td>\n",
       "      <td>[here, world, go, turn, need, love, seems, lov...</td>\n",
       "      <td>63</td>\n",
       "      <td>-5</td>\n",
       "      <td>58</td>\n",
       "      <td>[17, 1, 2, 1, -1, 21, 3, 2, 2, 8, 4, -4, 1, 1]</td>\n",
       "    </tr>\n",
       "    <tr>\n",
       "      <th>302</th>\n",
       "      <td>Cher</td>\n",
       "      <td>Perfection</td>\n",
       "      <td>Hush little Baby, gotta be strong 'Cause in th...</td>\n",
       "      <td>[hush, little, baby, gotta, strong, cause, wor...</td>\n",
       "      <td>69</td>\n",
       "      <td>-22</td>\n",
       "      <td>47</td>\n",
       "      <td>[1, 1, 1, -1, 2, 1, -1, 1, 5, 1, 17, -3, -2, 2...</td>\n",
       "    </tr>\n",
       "    <tr>\n",
       "      <th>212</th>\n",
       "      <td>Cher</td>\n",
       "      <td>I Found You Love</td>\n",
       "      <td>Well I was looking for a new love, a different...</td>\n",
       "      <td>[well, looking, new, love, different, kind, tr...</td>\n",
       "      <td>58</td>\n",
       "      <td>-11</td>\n",
       "      <td>47</td>\n",
       "      <td>[3, 20, 3, 5, -3, 3, 1, 11, 3, -1, 1, -1, 2, -...</td>\n",
       "    </tr>\n",
       "  </tbody>\n",
       "</table>\n",
       "</div>"
      ],
      "text/plain": [
       "    artist                    song  \\\n",
       "259   Cher  Love And Understanding   \n",
       "302   Cher              Perfection   \n",
       "212   Cher        I Found You Love   \n",
       "\n",
       "                                                lyrics  \\\n",
       "259  Here, here in this world Where do we go? Where...   \n",
       "302  Hush little Baby, gotta be strong 'Cause in th...   \n",
       "212  Well I was looking for a new love, a different...   \n",
       "\n",
       "                                        cleaned_lyrics  positive  negative  \\\n",
       "259  [here, world, go, turn, need, love, seems, lov...        63        -5   \n",
       "302  [hush, little, baby, gotta, strong, cause, wor...        69       -22   \n",
       "212  [well, looking, new, love, different, kind, tr...        58       -11   \n",
       "\n",
       "     total                                               full  \n",
       "259     58     [17, 1, 2, 1, -1, 21, 3, 2, 2, 8, 4, -4, 1, 1]  \n",
       "302     47  [1, 1, 1, -1, 2, 1, -1, 1, 5, 1, 17, -3, -2, 2...  \n",
       "212     47  [3, 20, 3, 5, -3, 3, 1, 11, 3, -1, 1, -1, 2, -...  "
      ]
     },
     "execution_count": 44,
     "metadata": {},
     "output_type": "execute_result"
    }
   ],
   "source": [
    "song_sentiment[song_sentiment['artist'] == 'Cher'].sort_values(by='total', ascending = False).head(3)"
   ]
  },
  {
   "cell_type": "code",
   "execution_count": 45,
   "id": "8f844dda",
   "metadata": {},
   "outputs": [
    {
     "name": "stdout",
     "output_type": "stream",
     "text": [
      "[\"Here, here in this world Where do we go? Where can we turn? When we need some love It seems that love just can't be found Where, where do we stand? When love's supply don't meet love's demand  We got enough stars to light the sky at night Enough sun to make to make the whole world bright We got more than enough But there's one thing there's just not enough of  Not enough love and understanding We could use some love to ease these troubled times Not enough love and understanding Why, oh why?  Spend all of our time Building buildings up to the sky Reaching everywhere But where we need to reach the most Hearts never can win Oh, in this race, this race that we're in  We've got enough cars to drive around the world Enough planes to take us anywhere We got more than enough But there's one thing there's just not enough of  Not enough love and understanding We could use some love to ease these troubled times Not enough love and understanding Why, oh why?  Not enough love and understanding We could use some love to ease these troubled times Not enough love and understanding Why, oh why?  We need some understandin' We need a little more love Some love and understandin'  Enough stars to light the sky at night Enough sun to make the whole world bright Enough hearts to find some love inside We got more than enough But there's one thing there's just not enough of  Not enough love and understanding We could use some love to ease these troubled times Not enough love and understanding Why, oh why? ... \"]\n"
     ]
    }
   ],
   "source": [
    "print(song_sentiment[song_sentiment['song'] == \"Love And Understanding\"]['lyrics'].values)"
   ]
  },
  {
   "cell_type": "code",
   "execution_count": 46,
   "id": "6ee9a1cc",
   "metadata": {},
   "outputs": [
    {
     "name": "stdout",
     "output_type": "stream",
     "text": [
      "[\"Hush little Baby, gotta be strong 'Cause in this world we are born to fight Be the best, prove them wrong A winner's work is never done, reach the top, number one  Oh, perfection You drive me crazy with perfection I've worn my pride as my protection Perfection, ohh  I was taught to be tough That the best that you can be ain't enough Crack the whip, sacrifice But I found out paradise had a price  I didn't know it then, but oh I know it now You gotta work as hard as love to make the love work out You know this heart of mine has made some big mistakes I guess that when it comes to love, I just don't know what I takes  All my life I've been driven by perfection Pushed it to the limit every day and night Ohh, I've been driven by perfection But nothing's perfect when love ain't right Nothing's perfect when the love ain't right  Gave it all, played my part I gave everything I had but my heart Worked so hard, made a name But the loneliness inside stays the same  When love is here today, and then it's gone today You got a list of lovers lookin' like a resume You gotta take some time to make it something real I guess that when it comes to love, I just don't know how to feel  All my life I've been driven by perfection Pushed it to the limit every day and night Ohh, I've been driven by perfection But nothing's perfect when love ain't right Nothing's perfect when the love ain't right  Oh, perfection You drive me crazy with perfection I've worn my pride as my protection I'm goin' crazy with perfection  Ohh, I didn't know it then, but oh I know it now You gotta work as hard as love to make the love work out You know this heart of mine has made some big mistakes I guess that when it comes to love, I just don't know what I takes  I've been driven by perfection Pushed it to the limit every day and night Ohh, I've been driven by perfection But nothing's perfect when love ain't right  All my life I've been driven by perfection Pushed it to the limit every day and night Ohh, I've been driven by perfection But nothing's perfect when love ain't right  All my life I've been driven by perfection Pushed it to the limit every day and night Ohh, I've been driven by perfection But nothing's perfect when love ain't right  All my life I've been driven by perfection \"]\n"
     ]
    }
   ],
   "source": [
    "print(song_sentiment[song_sentiment['song'] == \"Perfection\"]['lyrics'].values)"
   ]
  },
  {
   "cell_type": "code",
   "execution_count": 47,
   "id": "fb92d8e5",
   "metadata": {},
   "outputs": [
    {
     "name": "stdout",
     "output_type": "stream",
     "text": [
      "[\"Well I was looking for a new love, a different kind of true love Who's gonna treat me right, all day and night Hey baby I've been looking too And I have found there's No other love from me but you Well I was looking for a new love A different kind of true love Who's gonna treat me right Day and night Well I found what I was after Now my life is filled with laughter I found you love I was lost with no direction Then my life was one big question I was down and out Filled with doubt Found what I was after Now my life is filled with laughter I found you love I found you love I found a new love He's wonderful and true He's gonna spent his money He's gonna call me honey I gonna tease her Oh Lord, I gonna squeeze her Gonna love her plenty She's gonna make me manly We're gonna hold love while we can I've been looking for a new love A different kind of true love Who's gonna treat me right Every day and every night Now I found what I was after Now my life is filled with laughter I found you love I found you love I found a new love He's wonderful and true He's gonna spent his money He's gonna call me honey I gonna please her Oh Lord, I gonna squeeze her Gonna love me madly I'm gonna love her gladly We're gonna hold love while we can We're gonna hold love while we can \"]\n"
     ]
    }
   ],
   "source": [
    "print(song_sentiment[song_sentiment['song'] == \"I Found You Love\"]['lyrics'].values)"
   ]
  },
  {
   "cell_type": "markdown",
   "id": "d29157a7",
   "metadata": {},
   "source": [
    "### Plotting the Distributions"
   ]
  },
  {
   "cell_type": "code",
   "execution_count": 33,
   "id": "52904fca",
   "metadata": {},
   "outputs": [
    {
     "data": {
      "image/png": "[encoded data removed]",
      "text/plain": [
       "<Figure size 640x480 with 1 Axes>"
      ]
     },
     "metadata": {},
     "output_type": "display_data"
    }
   ],
   "source": [
    "sns.histplot(data = song_sentiment[song_sentiment['artist']=='Robyn'], x = 'total')\n",
    "plt.title(\"Robyn's Song Sentiment Distribution\")\n",
    "plt.show()"
   ]
  },
  {
   "cell_type": "code",
   "execution_count": 34,
   "id": "b2ee5965",
   "metadata": {},
   "outputs": [
    {
     "data": {
      "image/png": "[encoded data removed]",
      "text/plain": [
       "<Figure size 640x480 with 1 Axes>"
      ]
     },
     "metadata": {},
     "output_type": "display_data"
    }
   ],
   "source": [
    "sns.histplot(data = song_sentiment[song_sentiment['artist']=='Cher'], x = 'total', )\n",
    "plt.title(\"Cher's Song Sentiment Distribution\")\n",
    "plt.show()"
   ]
  },
  {
   "cell_type": "markdown",
   "id": "43cfcd9d",
   "metadata": {},
   "source": [
    "### Questions\n",
    "\n",
    "Q: Overall, which artist has the higher average sentiment per song? \n",
    "\n",
    "A: Overall, Robyn has a higher positive sentiment. Both Cher and Robyn have a positive sentiment by average, but Robyn's is 3 higher by average. This makes sense considering much of Robyn's lyrics pertains to upbeat dancing. \n",
    "\n",
    "---\n",
    "\n",
    "Q: For your first artist, what are the three songs that have the highest and lowest sentiments? Print the lyrics of those songs to the screen. What do you think is driving the sentiment score? \n",
    "\n",
    "A: \n",
    "For Robyn, her highest sentiment songs were: Love Is Free, We Dance To The Beat, & Between The Lines, and her most negative songs were: Don't Fucking Tell Me What To Do, Criminal Intent, & Love Kills. The positive songs were highlighting more of the positive aspects of a relationship or positive dance music to have fun to. The negative three songs were a song that mostly pertains to getting wild and liberating herself while the other two songs are more harsh break up songs. \n",
    "\n",
    "---\n",
    "\n",
    "Q: For your second artist, what are the three songs that have the highest and lowest sentiments? Print the lyrics of those songs to the screen. What do you think is driving the sentiment score? \n",
    "\n",
    "A: For Cher, her most positive sentiment songs were: Love And Understanding, Perfection, & I Found You Love, and her most negative songs were: Bang-Bang, Bang Bang (My Baby Shot Me Down), & Outrageous. Again, her top three most positive songs are regarding happy moments in romantic relationships while her most negative ones are about break ups. \n",
    "\n",
    "I think for both artists, whether the song is about a bad breakup or a makeup define whether or not the song is going to have positive or negative sentiment. Overall, Robyn's sentiment is higher because her music is meant to be dance music that gets people up and moving together. \n",
    "\n",
    "---\n",
    "\n",
    "Q: Plot the distributions of the sentiment scores for both artists. You can use `seaborn` to plot densities or plot histograms in matplotlib.\n",
    "\n",
    "Looking at the two distributions, both have a strong peak right above 0 at around 5 - 10. Robyn's is slightly skewed to the left, but the more normal of the distributions between the two. Cher's distribution has a slight tail to the left. The primary difference in the averages stem from Cher having a large between -1 - -20 that is quite higher than the similar area for Robyn. "
   ]
  },
  {
   "cell_type": "markdown",
   "id": "641eebb9",
   "metadata": {},
   "source": [
    "## Sentiment Analysis on Twitter Descriptions\n",
    "\n",
    "In this section, define two sets of emojis you designate as positive and negative. Make sure to have at least 10 emojis per set. You can learn about the most popular emojis on Twitter at [the emojitracker](https://emojitracker.com/). \n",
    "\n",
    "Associate your positive emojis with a score of +1, negative with -1. Score the average sentiment of your two artists based on the Twitter descriptions of their followers. The average sentiment can just be the total score divided by number of followers. You do not need to calculate sentiment on non-emoji content for this section."
   ]
  },
  {
   "cell_type": "code",
   "execution_count": 48,
   "id": "85719361",
   "metadata": {},
   "outputs": [],
   "source": [
    "# your code here\n",
    "positive = ['👍','😂','🥰','😇','😏','🥶','❤','👌','😘','😁']\n",
    "negative = ['😪','🤕','😑','😭','😢','😡','😈','🤡','🤬','💔']\n",
    "pos_num = [1] * len(positive)\n",
    "neg_num = [-1] * len(negative)\n",
    "\n",
    "emojis = pd.concat([pd.DataFrame({'emoji': positive, 'sentiment': pos_num}), pd.DataFrame({'emoji':negative,'sentiment':neg_num})], axis = 0).reset_index(drop = True)"
   ]
  },
  {
   "cell_type": "code",
   "execution_count": 49,
   "id": "62e1eef1",
   "metadata": {},
   "outputs": [
    {
     "data": {
      "text/html": [
       "<div>\n",
       "<style scoped>\n",
       "    .dataframe tbody tr th:only-of-type {\n",
       "        vertical-align: middle;\n",
       "    }\n",
       "\n",
       "    .dataframe tbody tr th {\n",
       "        vertical-align: top;\n",
       "    }\n",
       "\n",
       "    .dataframe thead th {\n",
       "        text-align: right;\n",
       "    }\n",
       "</style>\n",
       "<table border=\"1\" class=\"dataframe\">\n",
       "  <thead>\n",
       "    <tr style=\"text-align: right;\">\n",
       "      <th></th>\n",
       "      <th>emoji</th>\n",
       "      <th>sentiment</th>\n",
       "    </tr>\n",
       "  </thead>\n",
       "  <tbody>\n",
       "    <tr>\n",
       "      <th>0</th>\n",
       "      <td>👍</td>\n",
       "      <td>1</td>\n",
       "    </tr>\n",
       "    <tr>\n",
       "      <th>1</th>\n",
       "      <td>😂</td>\n",
       "      <td>1</td>\n",
       "    </tr>\n",
       "    <tr>\n",
       "      <th>2</th>\n",
       "      <td>🥰</td>\n",
       "      <td>1</td>\n",
       "    </tr>\n",
       "    <tr>\n",
       "      <th>3</th>\n",
       "      <td>😇</td>\n",
       "      <td>1</td>\n",
       "    </tr>\n",
       "    <tr>\n",
       "      <th>4</th>\n",
       "      <td>😏</td>\n",
       "      <td>1</td>\n",
       "    </tr>\n",
       "  </tbody>\n",
       "</table>\n",
       "</div>"
      ],
      "text/plain": [
       "  emoji  sentiment\n",
       "0     👍          1\n",
       "1     😂          1\n",
       "2     🥰          1\n",
       "3     😇          1\n",
       "4     😏          1"
      ]
     },
     "execution_count": 49,
     "metadata": {},
     "output_type": "execute_result"
    }
   ],
   "source": [
    "emojis.head()"
   ]
  },
  {
   "cell_type": "markdown",
   "id": "23d62db6",
   "metadata": {},
   "source": [
    "### Robyn Emoji Sentiment"
   ]
  },
  {
   "cell_type": "code",
   "execution_count": 51,
   "id": "59d1414b",
   "metadata": {},
   "outputs": [],
   "source": [
    "# Extracting the emojis from the lists\n",
    "robps = []\n",
    "robng = []\n",
    "robpos = []\n",
    "robneg = []\n",
    "\n",
    "emojis_l = []\n",
    "counts = []\n",
    "\n",
    "for i in twitter_desc['robyn']:\n",
    "    emo = []\n",
    "    counter = 0\n",
    "    for w in i.split():\n",
    "        for l in w:\n",
    "            if l in list(positive):\n",
    "                robpos.append(l)\n",
    "                emo.append(l)\n",
    "                robps.append(1)\n",
    "                counter += 1\n",
    "            elif l in list(negative):\n",
    "                robneg.append(l)\n",
    "                emo.append(l)\n",
    "                robng.append(-1)\n",
    "                counter -= 1\n",
    "    emojis_l.append(\", \".join(map(str,emo)))\n",
    "    counts.append(counter)\n"
   ]
  },
  {
   "cell_type": "code",
   "execution_count": 52,
   "id": "c50381e3",
   "metadata": {},
   "outputs": [],
   "source": [
    "remosent_df = pd.DataFrame({'emojis': emojis_l, \"sentiment\": counts})\n",
    "remosent_df.loc[(remosent_df['emojis'])==''] = np.NaN"
   ]
  },
  {
   "cell_type": "code",
   "execution_count": 53,
   "id": "7820a025",
   "metadata": {},
   "outputs": [],
   "source": [
    "remosent_df.dropna(inplace = True)"
   ]
  },
  {
   "cell_type": "code",
   "execution_count": 54,
   "id": "c23aea1b",
   "metadata": {},
   "outputs": [
    {
     "name": "stdout",
     "output_type": "stream",
     "text": [
      "Robyn mean Sentiment for Twitter: 1.3088878096163186\n"
     ]
    }
   ],
   "source": [
    "print(\"Robyn mean Sentiment for Twitter:\", remosent_df['sentiment'].mean())"
   ]
  },
  {
   "cell_type": "code",
   "execution_count": 55,
   "id": "65cbc3d8",
   "metadata": {},
   "outputs": [
    {
     "name": "stdout",
     "output_type": "stream",
     "text": [
      "Positive Sentiment Emojis Used: 5721\n"
     ]
    }
   ],
   "source": [
    "rps_df = pd.DataFrame({'emoji': robpos, 'sentiment': robps})\n",
    "print(\"Positive Sentiment Emojis Used:\", rps_df['sentiment'].sum())"
   ]
  },
  {
   "cell_type": "code",
   "execution_count": 56,
   "id": "91e5efdd",
   "metadata": {},
   "outputs": [
    {
     "name": "stdout",
     "output_type": "stream",
     "text": [
      "Negative Sentiment Emojis Used: -331\n"
     ]
    }
   ],
   "source": [
    "rng_df = pd.DataFrame({'emoji': robneg, 'sentiment': robng})\n",
    "print(\"Negative Sentiment Emojis Used:\", rng_df['sentiment'].sum())"
   ]
  },
  {
   "cell_type": "code",
   "execution_count": 57,
   "id": "5ff1be11",
   "metadata": {},
   "outputs": [
    {
     "data": {
      "text/html": [
       "<div>\n",
       "<style scoped>\n",
       "    .dataframe tbody tr th:only-of-type {\n",
       "        vertical-align: middle;\n",
       "    }\n",
       "\n",
       "    .dataframe tbody tr th {\n",
       "        vertical-align: top;\n",
       "    }\n",
       "\n",
       "    .dataframe thead th {\n",
       "        text-align: right;\n",
       "    }\n",
       "</style>\n",
       "<table border=\"1\" class=\"dataframe\">\n",
       "  <thead>\n",
       "    <tr style=\"text-align: right;\">\n",
       "      <th></th>\n",
       "      <th>sentiment</th>\n",
       "    </tr>\n",
       "    <tr>\n",
       "      <th>emoji</th>\n",
       "      <th></th>\n",
       "    </tr>\n",
       "  </thead>\n",
       "  <tbody>\n",
       "    <tr>\n",
       "      <th>❤</th>\n",
       "      <td>4808</td>\n",
       "    </tr>\n",
       "    <tr>\n",
       "      <th>😘</th>\n",
       "      <td>197</td>\n",
       "    </tr>\n",
       "    <tr>\n",
       "      <th>👍</th>\n",
       "      <td>136</td>\n",
       "    </tr>\n",
       "    <tr>\n",
       "      <th>🥰</th>\n",
       "      <td>132</td>\n",
       "    </tr>\n",
       "    <tr>\n",
       "      <th>😂</th>\n",
       "      <td>119</td>\n",
       "    </tr>\n",
       "    <tr>\n",
       "      <th>😁</th>\n",
       "      <td>101</td>\n",
       "    </tr>\n",
       "    <tr>\n",
       "      <th>👌</th>\n",
       "      <td>99</td>\n",
       "    </tr>\n",
       "    <tr>\n",
       "      <th>😇</th>\n",
       "      <td>75</td>\n",
       "    </tr>\n",
       "    <tr>\n",
       "      <th>😏</th>\n",
       "      <td>45</td>\n",
       "    </tr>\n",
       "    <tr>\n",
       "      <th>🥶</th>\n",
       "      <td>9</td>\n",
       "    </tr>\n",
       "  </tbody>\n",
       "</table>\n",
       "</div>"
      ],
      "text/plain": [
       "       sentiment\n",
       "emoji           \n",
       "❤           4808\n",
       "😘            197\n",
       "👍            136\n",
       "🥰            132\n",
       "😂            119\n",
       "😁            101\n",
       "👌             99\n",
       "😇             75\n",
       "😏             45\n",
       "🥶              9"
      ]
     },
     "execution_count": 57,
     "metadata": {},
     "output_type": "execute_result"
    }
   ],
   "source": [
    "rps_df.groupby('emoji').sum().sort_values('sentiment', ascending = False)"
   ]
  },
  {
   "cell_type": "code",
   "execution_count": 58,
   "id": "6211a941",
   "metadata": {},
   "outputs": [
    {
     "data": {
      "text/html": [
       "<div>\n",
       "<style scoped>\n",
       "    .dataframe tbody tr th:only-of-type {\n",
       "        vertical-align: middle;\n",
       "    }\n",
       "\n",
       "    .dataframe tbody tr th {\n",
       "        vertical-align: top;\n",
       "    }\n",
       "\n",
       "    .dataframe thead th {\n",
       "        text-align: right;\n",
       "    }\n",
       "</style>\n",
       "<table border=\"1\" class=\"dataframe\">\n",
       "  <thead>\n",
       "    <tr style=\"text-align: right;\">\n",
       "      <th></th>\n",
       "      <th>sentiment</th>\n",
       "    </tr>\n",
       "    <tr>\n",
       "      <th>emoji</th>\n",
       "      <th></th>\n",
       "    </tr>\n",
       "  </thead>\n",
       "  <tbody>\n",
       "    <tr>\n",
       "      <th>😈</th>\n",
       "      <td>-128</td>\n",
       "    </tr>\n",
       "    <tr>\n",
       "      <th>💔</th>\n",
       "      <td>-60</td>\n",
       "    </tr>\n",
       "    <tr>\n",
       "      <th>🤡</th>\n",
       "      <td>-54</td>\n",
       "    </tr>\n",
       "    <tr>\n",
       "      <th>😭</th>\n",
       "      <td>-41</td>\n",
       "    </tr>\n",
       "    <tr>\n",
       "      <th>😡</th>\n",
       "      <td>-12</td>\n",
       "    </tr>\n",
       "    <tr>\n",
       "      <th>🤬</th>\n",
       "      <td>-11</td>\n",
       "    </tr>\n",
       "    <tr>\n",
       "      <th>😑</th>\n",
       "      <td>-9</td>\n",
       "    </tr>\n",
       "    <tr>\n",
       "      <th>😢</th>\n",
       "      <td>-9</td>\n",
       "    </tr>\n",
       "    <tr>\n",
       "      <th>😪</th>\n",
       "      <td>-5</td>\n",
       "    </tr>\n",
       "    <tr>\n",
       "      <th>🤕</th>\n",
       "      <td>-2</td>\n",
       "    </tr>\n",
       "  </tbody>\n",
       "</table>\n",
       "</div>"
      ],
      "text/plain": [
       "       sentiment\n",
       "emoji           \n",
       "😈           -128\n",
       "💔            -60\n",
       "🤡            -54\n",
       "😭            -41\n",
       "😡            -12\n",
       "🤬            -11\n",
       "😑             -9\n",
       "😢             -9\n",
       "😪             -5\n",
       "🤕             -2"
      ]
     },
     "execution_count": 58,
     "metadata": {},
     "output_type": "execute_result"
    }
   ],
   "source": [
    "rng_df.groupby('emoji').sum().sort_values('sentiment', ascending = True)"
   ]
  },
  {
   "cell_type": "code",
   "execution_count": 69,
   "id": "cf0da02d",
   "metadata": {},
   "outputs": [
    {
     "data": {
      "image/png": "[encoded data removed]",
      "text/plain": [
       "<Figure size 640x480 with 1 Axes>"
      ]
     },
     "metadata": {},
     "output_type": "display_data"
    }
   ],
   "source": [
    "sns.histplot(data = remosent_df, x = 'sentiment', )\n",
    "plt.title(\"Robyn's Twitter Sentiment Distribution\")\n",
    "plt.show()"
   ]
  },
  {
   "cell_type": "markdown",
   "id": "8c34919a",
   "metadata": {},
   "source": [
    "### Cher Emoji Sentiment"
   ]
  },
  {
   "cell_type": "code",
   "execution_count": 59,
   "id": "677a6bee",
   "metadata": {},
   "outputs": [],
   "source": [
    "# Extracting the emojis from the lists\n",
    "cherps = []\n",
    "cherng = []\n",
    "cherpos = []\n",
    "cherneg = []\n",
    "\n",
    "emojis_ll = []\n",
    "countss = []\n",
    "\n",
    "for i in twitter_desc['cher']:\n",
    "    emo = []\n",
    "    counter = 0\n",
    "    for w in i.split():\n",
    "        for l in w:\n",
    "            if l in list(positive):\n",
    "                cherpos.append(l)\n",
    "                cherps.append(1)\n",
    "                emo.append(l)\n",
    "                counter += 1\n",
    "            elif l in list(negative):\n",
    "                cherneg.append(l)\n",
    "                cherng.append(-1)\n",
    "                emo.append(l)\n",
    "                counter -= 1\n",
    "    emojis_ll.append(\", \".join(map(str,emo)))\n",
    "    countss.append(counter)"
   ]
  },
  {
   "cell_type": "code",
   "execution_count": 60,
   "id": "774e0dda",
   "metadata": {},
   "outputs": [],
   "source": [
    "cemosent_df = pd.DataFrame({'emojis': emojis_l, \"sentiment\": counts})\n",
    "cemosent_df.loc[(cemosent_df['emojis'])==''] = np.NaN"
   ]
  },
  {
   "cell_type": "code",
   "execution_count": 61,
   "id": "7c8836b3",
   "metadata": {},
   "outputs": [],
   "source": [
    "cemosent_df.dropna(inplace = True)"
   ]
  },
  {
   "cell_type": "code",
   "execution_count": 62,
   "id": "022a51f5",
   "metadata": {},
   "outputs": [
    {
     "name": "stdout",
     "output_type": "stream",
     "text": [
      "Cher mean Sentiment for Twitter: 1.3088878096163186\n"
     ]
    }
   ],
   "source": [
    "print(\"Cher mean Sentiment for Twitter:\", cemosent_df['sentiment'].mean())"
   ]
  },
  {
   "cell_type": "code",
   "execution_count": 63,
   "id": "09ee0756",
   "metadata": {},
   "outputs": [
    {
     "name": "stdout",
     "output_type": "stream",
     "text": [
      "Positive Sentiment Emojis Used: 103563\n"
     ]
    }
   ],
   "source": [
    "cps_df = pd.DataFrame({'emoji': cherpos, 'sentiment': cherps})\n",
    "print(\"Positive Sentiment Emojis Used:\", cps_df['sentiment'].sum())"
   ]
  },
  {
   "cell_type": "code",
   "execution_count": 64,
   "id": "fb30c4d8",
   "metadata": {},
   "outputs": [
    {
     "name": "stdout",
     "output_type": "stream",
     "text": [
      "Negative Sentiment Emojis Used: -7157\n"
     ]
    }
   ],
   "source": [
    "cng_df = pd.DataFrame({'emoji': cherneg, 'sentiment': cherng})\n",
    "print(\"Negative Sentiment Emojis Used:\", cng_df['sentiment'].sum())"
   ]
  },
  {
   "cell_type": "code",
   "execution_count": 65,
   "id": "697e9d9a",
   "metadata": {},
   "outputs": [
    {
     "data": {
      "text/html": [
       "<div>\n",
       "<style scoped>\n",
       "    .dataframe tbody tr th:only-of-type {\n",
       "        vertical-align: middle;\n",
       "    }\n",
       "\n",
       "    .dataframe tbody tr th {\n",
       "        vertical-align: top;\n",
       "    }\n",
       "\n",
       "    .dataframe thead th {\n",
       "        text-align: right;\n",
       "    }\n",
       "</style>\n",
       "<table border=\"1\" class=\"dataframe\">\n",
       "  <thead>\n",
       "    <tr style=\"text-align: right;\">\n",
       "      <th></th>\n",
       "      <th>sentiment</th>\n",
       "    </tr>\n",
       "    <tr>\n",
       "      <th>emoji</th>\n",
       "      <th></th>\n",
       "    </tr>\n",
       "  </thead>\n",
       "  <tbody>\n",
       "    <tr>\n",
       "      <th>❤</th>\n",
       "      <td>79373</td>\n",
       "    </tr>\n",
       "    <tr>\n",
       "      <th>😘</th>\n",
       "      <td>5666</td>\n",
       "    </tr>\n",
       "    <tr>\n",
       "      <th>🥰</th>\n",
       "      <td>4158</td>\n",
       "    </tr>\n",
       "    <tr>\n",
       "      <th>😂</th>\n",
       "      <td>3608</td>\n",
       "    </tr>\n",
       "    <tr>\n",
       "      <th>😁</th>\n",
       "      <td>2732</td>\n",
       "    </tr>\n",
       "    <tr>\n",
       "      <th>😇</th>\n",
       "      <td>2391</td>\n",
       "    </tr>\n",
       "    <tr>\n",
       "      <th>👍</th>\n",
       "      <td>2254</td>\n",
       "    </tr>\n",
       "    <tr>\n",
       "      <th>👌</th>\n",
       "      <td>2045</td>\n",
       "    </tr>\n",
       "    <tr>\n",
       "      <th>😏</th>\n",
       "      <td>1169</td>\n",
       "    </tr>\n",
       "    <tr>\n",
       "      <th>🥶</th>\n",
       "      <td>167</td>\n",
       "    </tr>\n",
       "  </tbody>\n",
       "</table>\n",
       "</div>"
      ],
      "text/plain": [
       "       sentiment\n",
       "emoji           \n",
       "❤          79373\n",
       "😘           5666\n",
       "🥰           4158\n",
       "😂           3608\n",
       "😁           2732\n",
       "😇           2391\n",
       "👍           2254\n",
       "👌           2045\n",
       "😏           1169\n",
       "🥶            167"
      ]
     },
     "execution_count": 65,
     "metadata": {},
     "output_type": "execute_result"
    }
   ],
   "source": [
    "cps_df.groupby('emoji').sum().sort_values('sentiment', ascending = False)"
   ]
  },
  {
   "cell_type": "code",
   "execution_count": 66,
   "id": "16bfacf3",
   "metadata": {},
   "outputs": [
    {
     "data": {
      "text/html": [
       "<div>\n",
       "<style scoped>\n",
       "    .dataframe tbody tr th:only-of-type {\n",
       "        vertical-align: middle;\n",
       "    }\n",
       "\n",
       "    .dataframe tbody tr th {\n",
       "        vertical-align: top;\n",
       "    }\n",
       "\n",
       "    .dataframe thead th {\n",
       "        text-align: right;\n",
       "    }\n",
       "</style>\n",
       "<table border=\"1\" class=\"dataframe\">\n",
       "  <thead>\n",
       "    <tr style=\"text-align: right;\">\n",
       "      <th></th>\n",
       "      <th>sentiment</th>\n",
       "    </tr>\n",
       "    <tr>\n",
       "      <th>emoji</th>\n",
       "      <th></th>\n",
       "    </tr>\n",
       "  </thead>\n",
       "  <tbody>\n",
       "    <tr>\n",
       "      <th>😈</th>\n",
       "      <td>-2351</td>\n",
       "    </tr>\n",
       "    <tr>\n",
       "      <th>💔</th>\n",
       "      <td>-1616</td>\n",
       "    </tr>\n",
       "    <tr>\n",
       "      <th>🤡</th>\n",
       "      <td>-1027</td>\n",
       "    </tr>\n",
       "    <tr>\n",
       "      <th>😭</th>\n",
       "      <td>-738</td>\n",
       "    </tr>\n",
       "    <tr>\n",
       "      <th>🤬</th>\n",
       "      <td>-385</td>\n",
       "    </tr>\n",
       "    <tr>\n",
       "      <th>😢</th>\n",
       "      <td>-340</td>\n",
       "    </tr>\n",
       "    <tr>\n",
       "      <th>😡</th>\n",
       "      <td>-319</td>\n",
       "    </tr>\n",
       "    <tr>\n",
       "      <th>😑</th>\n",
       "      <td>-184</td>\n",
       "    </tr>\n",
       "    <tr>\n",
       "      <th>😪</th>\n",
       "      <td>-138</td>\n",
       "    </tr>\n",
       "    <tr>\n",
       "      <th>🤕</th>\n",
       "      <td>-59</td>\n",
       "    </tr>\n",
       "  </tbody>\n",
       "</table>\n",
       "</div>"
      ],
      "text/plain": [
       "       sentiment\n",
       "emoji           \n",
       "😈          -2351\n",
       "💔          -1616\n",
       "🤡          -1027\n",
       "😭           -738\n",
       "🤬           -385\n",
       "😢           -340\n",
       "😡           -319\n",
       "😑           -184\n",
       "😪           -138\n",
       "🤕            -59"
      ]
     },
     "execution_count": 66,
     "metadata": {},
     "output_type": "execute_result"
    }
   ],
   "source": [
    "cng_df.groupby('emoji').sum().sort_values('sentiment', ascending = True)"
   ]
  },
  {
   "cell_type": "code",
   "execution_count": 68,
   "id": "12b3b834",
   "metadata": {},
   "outputs": [
    {
     "data": {
      "image/png": "[encoded data removed]",
      "text/plain": [
       "<Figure size 640x480 with 1 Axes>"
      ]
     },
     "metadata": {},
     "output_type": "display_data"
    }
   ],
   "source": [
    "sns.histplot(data = cemosent_df, x = 'sentiment', )\n",
    "plt.title(\"Cher's Twitter Sentiment Distribution\")\n",
    "plt.show()"
   ]
  },
  {
   "cell_type": "markdown",
   "id": "e2cd96ab",
   "metadata": {},
   "source": [
    "Q: What is the average sentiment of your two artists? \n",
    "\n",
    "A: The average sentiment for Cher is: 1.3\n",
    "The average sentiment for Robyn is: 1.3\n",
    "\n",
    "Both artists have their typical users that sit right around between -1 to 5. Very few users for both artists are outside this range likely due to the limited amount of emojis used for this inquery. \n",
    "\n",
    "---\n",
    "\n",
    "Q: Which positive emoji is the most popular for each artist? Which negative emoji? \n",
    "\n",
    "A: For Robyn, the most positive is ❤, and the most negative emoji is 😈\n",
    "\n",
    "For Cher, the most positive is ❤, and the most negative emoji is 😈\n",
    "\n",
    "I am not suprised overall that the heart emoji is the most popular and widely used, but I am shocked that the devil emoji is getting so much use, although, in light of this it may be arguable that this emoji is being used positively or negatively. "
   ]
  }
 ],
 "metadata": {
  "kernelspec": {
   "display_name": "Python 3 (ipykernel)",
   "language": "python",
   "name": "python3"
  },
  "language_info": {
   "codemirror_mode": {
    "name": "ipython",
    "version": 3
   },
   "file_extension": ".py",
   "mimetype": "text/x-python",
   "name": "python",
   "nbconvert_exporter": "python",
   "pygments_lexer": "ipython3",
   "version": "3.9.16"
  }
 },
 "nbformat": 4,
 "nbformat_minor": 5
}
